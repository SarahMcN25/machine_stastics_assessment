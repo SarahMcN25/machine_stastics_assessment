{
 "cells": [
  {
   "cell_type": "markdown",
   "id": "8beed581",
   "metadata": {},
   "source": [
    "TO DO\n",
    "***"
   ]
  },
  {
   "cell_type": "markdown",
   "id": "4bf4eb8d",
   "metadata": {},
   "source": [
    "**TO DO:**\n",
    "\n",
    "Include an introduction to your notebook, setting the context and\n",
    "describing what the reader can expect as they read down through\n",
    "the notebook.\n"
   ]
  },
  {
   "cell_type": "markdown",
   "id": "8267a3d7",
   "metadata": {},
   "source": [
    "**\n",
    "\n",
    "google pep 8 style code for python\n",
    "\n",
    "**"
   ]
  },
  {
   "cell_type": "markdown",
   "id": "541b74d1",
   "metadata": {},
   "source": [
    "**CLEAN UP**\n",
    "\n",
    "`It tries to learn a smaller representation of its input (encoder) and then reconstruct its input from that smaller representation (decoder). An anomaly score is designed to correspond to the reconstruction error.`\n",
    "\n",
    "Nice article here: https://thingsolver.com/time-series-anomaly-detection-using-a-variational-autoencoder-vae/#:~:text=It%20tries%20to%20learn%20a,)%2C%20a%20Bayesian%20neural%20network."
   ]
  },
  {
   "cell_type": "markdown",
   "id": "791fbe13",
   "metadata": {},
   "source": [
    "**Project Task:**\n",
    "\n",
    "- On the keras5 website, there is an example of time-series anomaly detection  \n",
    "\n",
    "\n",
    "- Re-create this example in a notebook of your own, explaining the concepts\n",
    "\n",
    "\n",
    "- clearly explain each keras function used, referring to the docu\u0002mentation.\n"
   ]
  },
  {
   "cell_type": "markdown",
   "id": "325ef352",
   "metadata": {},
   "source": [
    "***\n",
    "DELETE TO DO AFTERWARDS. JUST SOME GUIDENCE NOW. \n",
    "***"
   ]
  },
  {
   "cell_type": "markdown",
   "id": "d7d1661e",
   "metadata": {},
   "source": [
    "\n",
    "\n",
    "<img src=\"https://encrypted-tbn0.gstatic.com/images?q=tbn:ANd9GcTy_W0CYhBKCrSlAkabQWffjRke71B63ixOUA&usqp=CAU\" alt=\"anomaly\" style=\"width: 380px;\" align=right/>\n"
   ]
  },
  {
   "cell_type": "markdown",
   "id": "24eaeae7",
   "metadata": {},
   "source": [
    "<h1 style=\"color: #001a79;\">Anomaly Detection using Keras</h1>\n",
    "\n",
    "<hr style=\"border-top: 1px solid #001a79;\" />\n",
    "\n",
    "Offical documentation: https://keras.io/examples/timeseries/timeseries_anomaly_detection/"
   ]
  },
  {
   "cell_type": "markdown",
   "id": "53f4bfbe",
   "metadata": {},
   "source": [
    "<br>\n",
    "\n",
    "<h2 style=\"color: #001a79;\">Introduction</h2>\n",
    "\n",
    "<hr style=\"border-top: 1px solid #001a79;\" />\n"
   ]
  },
  {
   "cell_type": "markdown",
   "id": "fe9de32e",
   "metadata": {},
   "source": [
    "This notebook is a re-creation of the timeseries anomaly detection using an Autoencoder.\n",
    "\n",
    "\n",
    "The goal of this notebook is to display how we can reconstruct convilutional autoencoder model to detect anomalies using a timeseries. In other words, I will use keras on top of tensorflow to build and train a model which will hopefully detect anomolies.\n",
    "\n",
    "\n",
    "The following code was adapted from the official documentation cited above and also from my lectures notebook which can be found here: https://github.com/ianmcloughlin/2223-S1-machine-learn-stats/blob/main/notebooks/05-evaluation.ipynb\n",
    "\n"
   ]
  },
  {
   "cell_type": "markdown",
   "id": "cb82b55a",
   "metadata": {},
   "source": [
    "<br>\n",
    "\n",
    "<h2 style=\"color: #001a79;\">Importing Modules</h2>\n",
    "\n",
    "<hr style=\"border-top: 1px solid #001a79;\" />"
   ]
  },
  {
   "cell_type": "code",
   "execution_count": 1,
   "id": "16a96028",
   "metadata": {},
   "outputs": [],
   "source": [
    "# For numerical arrrays.\n",
    "import numpy as np\n",
    "\n",
    "# Dealing with dataframes. \n",
    "import pandas as pd\n",
    "\n",
    "# For neural networks.\n",
    "import tensorflow.keras as keras\n",
    "\n",
    "# For data visualisation. \n",
    "from matplotlib import pyplot as plt"
   ]
  },
  {
   "cell_type": "markdown",
   "id": "b7235cfd",
   "metadata": {},
   "source": [
    "<h3 style=\"color: #001a79;\">TensorFlow</h3>\n"
   ]
  },
  {
   "cell_type": "markdown",
   "id": "e2af3c2c",
   "metadata": {},
   "source": [
    "Tensorflow is a platform widely using in machine learning and statistics. It purpose is to aid with data automation, model tracking, performance monitoring and model retraining. \n",
    "\n",
    "Offical documentation can be found here: https://www.tensorflow.org/learn"
   ]
  },
  {
   "cell_type": "markdown",
   "id": "e05d32bb",
   "metadata": {},
   "source": [
    "<h3 style=\"color: #001a79;\">Keras</h3>\n"
   ]
  },
  {
   "cell_type": "markdown",
   "id": "203e986f",
   "metadata": {},
   "source": [
    "Keras is a deep learning API which runs on top of TensorFlow. It's purpose is to provide a simple and flexible way of experimenting with ideas and producing fast results. It is an important library for completeing research. \n",
    "\n",
    "\n",
    "Offical documentation can be accessed here: https://keras.io/"
   ]
  },
  {
   "cell_type": "markdown",
   "id": "96dccc9f",
   "metadata": {},
   "source": [
    "<br>\n",
    "\n",
    "<h2 style=\"color: #001a79;\">Loading the data</h2>\n",
    "\n",
    "<hr style=\"border-top: 1px solid #001a79;\" />\n",
    "\n",
    "https://www.kaggle.com/datasets/boltzmannbrain/nab\n",
    "\n",
    "https://github.com/numenta/NAB"
   ]
  },
  {
   "cell_type": "markdown",
   "id": "5ab5359d",
   "metadata": {},
   "source": [
    "For this experiment the Numenta Anomaly Benchmark(NAB) dataset is used which can be found [here](https://www.kaggle.com/datasets/boltzmannbrain/nab). This an open source dataset is an artifical timeseries where the data is ordered, timestamped and has single-valued metrics. It is open source and contains labelled real-world time-series data which is what makes it so simple and effective to use. "
   ]
  },
  {
   "cell_type": "markdown",
   "id": "b8e9ad73",
   "metadata": {},
   "source": [
    "There are two csv files associated with this dataset which we will use for training and testing of data. The next code cell sets these up with their variable names. \n",
    "\n",
    "`artificialNoAnomaly/art_daily_small_noise.csv` contains a timestamp and some values. This csv contains articival data which doesn't contain any anomalies. This dataset will be used for training the model. \n",
    "\n",
    "`artificialWithAnomaly/art_daily_jumpsup.csv`also contains timestamps and values. The difference is that this file contains anomalies. This will be used for testing the model. \n"
   ]
  },
  {
   "cell_type": "code",
   "execution_count": 2,
   "id": "b47ed68c",
   "metadata": {},
   "outputs": [],
   "source": [
    "# Root of URLs.\n",
    "root_url = 'https://raw.githubusercontent.com/numenta/NAB/master/data/'\n",
    "\n",
    "# Data file without anomaly for training.\n",
    "no_anomaly_url = root_url + 'artificialNoAnomaly/art_daily_small_noise.csv'\n",
    "\n",
    "# Data file with anomaly for testing\n",
    "with_anomaly_url = root_url + 'artificialWithAnomaly/art_daily_jumpsup.csv'"
   ]
  },
  {
   "cell_type": "markdown",
   "id": "970a98c2",
   "metadata": {},
   "source": [
    "You can have a look at the urls in our web-browser. Follow the http links provided fromthe following two cells. Here you will see the raw data for these CSVs."
   ]
  },
  {
   "cell_type": "code",
   "execution_count": 3,
   "id": "9719c387",
   "metadata": {},
   "outputs": [
    {
     "data": {
      "text/plain": [
       "'https://raw.githubusercontent.com/numenta/NAB/master/data/artificialNoAnomaly/art_daily_small_noise.csv'"
      ]
     },
     "execution_count": 3,
     "metadata": {},
     "output_type": "execute_result"
    }
   ],
   "source": [
    "# http for data file without anomaly for training.\n",
    "no_anomaly_url"
   ]
  },
  {
   "cell_type": "code",
   "execution_count": 4,
   "id": "21c3f535",
   "metadata": {},
   "outputs": [
    {
     "data": {
      "text/plain": [
       "'https://raw.githubusercontent.com/numenta/NAB/master/data/artificialWithAnomaly/art_daily_jumpsup.csv'"
      ]
     },
     "execution_count": 4,
     "metadata": {},
     "output_type": "execute_result"
    }
   ],
   "source": [
    "# http for data file with anomaly for testing. \n",
    "with_anomaly_url"
   ]
  },
  {
   "cell_type": "markdown",
   "id": "344b33ce",
   "metadata": {},
   "source": [
    "<h3 style=\"color: #001a79;\">Timeseries data without anomalies</h3>\n"
   ]
  },
  {
   "cell_type": "markdown",
   "id": "3efb1b45",
   "metadata": {},
   "source": [
    "Let's take a look at the data without anomalies using pandas to read in the csv file. "
   ]
  },
  {
   "cell_type": "code",
   "execution_count": 5,
   "id": "d1f66365",
   "metadata": {},
   "outputs": [],
   "source": [
    "# Small noise dataframe (no anomaly) for training.\n",
    "df_small_noise = pd.read_csv(no_anomaly_url, parse_dates=True, index_col=\"timestamp\")"
   ]
  },
  {
   "cell_type": "markdown",
   "id": "5062b660",
   "metadata": {},
   "source": [
    "Pandas has a lot of functionality when dealing with dataframes. I will use some of these functions to have a look at the data and ensure everything is in order. \n",
    "\n",
    "Offical documentation can be found here: https://pandas.pydata.org/docs/reference/api/pandas.DataFrame.html"
   ]
  },
  {
   "cell_type": "code",
   "execution_count": 6,
   "id": "0640d0cf",
   "metadata": {},
   "outputs": [
    {
     "data": {
      "text/html": [
       "<div>\n",
       "<style scoped>\n",
       "    .dataframe tbody tr th:only-of-type {\n",
       "        vertical-align: middle;\n",
       "    }\n",
       "\n",
       "    .dataframe tbody tr th {\n",
       "        vertical-align: top;\n",
       "    }\n",
       "\n",
       "    .dataframe thead th {\n",
       "        text-align: right;\n",
       "    }\n",
       "</style>\n",
       "<table border=\"1\" class=\"dataframe\">\n",
       "  <thead>\n",
       "    <tr style=\"text-align: right;\">\n",
       "      <th></th>\n",
       "      <th>value</th>\n",
       "    </tr>\n",
       "  </thead>\n",
       "  <tbody>\n",
       "    <tr>\n",
       "      <th>count</th>\n",
       "      <td>4032.000000</td>\n",
       "    </tr>\n",
       "    <tr>\n",
       "      <th>mean</th>\n",
       "      <td>42.438353</td>\n",
       "    </tr>\n",
       "    <tr>\n",
       "      <th>std</th>\n",
       "      <td>28.077122</td>\n",
       "    </tr>\n",
       "    <tr>\n",
       "      <th>min</th>\n",
       "      <td>18.000964</td>\n",
       "    </tr>\n",
       "    <tr>\n",
       "      <th>25%</th>\n",
       "      <td>19.841390</td>\n",
       "    </tr>\n",
       "    <tr>\n",
       "      <th>50%</th>\n",
       "      <td>21.608487</td>\n",
       "    </tr>\n",
       "    <tr>\n",
       "      <th>75%</th>\n",
       "      <td>75.450282</td>\n",
       "    </tr>\n",
       "    <tr>\n",
       "      <th>max</th>\n",
       "      <td>87.976128</td>\n",
       "    </tr>\n",
       "  </tbody>\n",
       "</table>\n",
       "</div>"
      ],
      "text/plain": [
       "             value\n",
       "count  4032.000000\n",
       "mean     42.438353\n",
       "std      28.077122\n",
       "min      18.000964\n",
       "25%      19.841390\n",
       "50%      21.608487\n",
       "75%      75.450282\n",
       "max      87.976128"
      ]
     },
     "execution_count": 6,
     "metadata": {},
     "output_type": "execute_result"
    }
   ],
   "source": [
    "# describe returns descriptive analysis of df. \n",
    "df_small_noise.describe()"
   ]
  },
  {
   "cell_type": "code",
   "execution_count": 7,
   "id": "6d10e216",
   "metadata": {},
   "outputs": [
    {
     "data": {
      "text/html": [
       "<div>\n",
       "<style scoped>\n",
       "    .dataframe tbody tr th:only-of-type {\n",
       "        vertical-align: middle;\n",
       "    }\n",
       "\n",
       "    .dataframe tbody tr th {\n",
       "        vertical-align: top;\n",
       "    }\n",
       "\n",
       "    .dataframe thead th {\n",
       "        text-align: right;\n",
       "    }\n",
       "</style>\n",
       "<table border=\"1\" class=\"dataframe\">\n",
       "  <thead>\n",
       "    <tr style=\"text-align: right;\">\n",
       "      <th></th>\n",
       "      <th>value</th>\n",
       "    </tr>\n",
       "    <tr>\n",
       "      <th>timestamp</th>\n",
       "      <th></th>\n",
       "    </tr>\n",
       "  </thead>\n",
       "  <tbody>\n",
       "    <tr>\n",
       "      <th>2014-04-01 00:00:00</th>\n",
       "      <td>18.324919</td>\n",
       "    </tr>\n",
       "    <tr>\n",
       "      <th>2014-04-01 00:05:00</th>\n",
       "      <td>21.970327</td>\n",
       "    </tr>\n",
       "    <tr>\n",
       "      <th>2014-04-01 00:10:00</th>\n",
       "      <td>18.624806</td>\n",
       "    </tr>\n",
       "    <tr>\n",
       "      <th>2014-04-01 00:15:00</th>\n",
       "      <td>21.953684</td>\n",
       "    </tr>\n",
       "    <tr>\n",
       "      <th>2014-04-01 00:20:00</th>\n",
       "      <td>21.909120</td>\n",
       "    </tr>\n",
       "  </tbody>\n",
       "</table>\n",
       "</div>"
      ],
      "text/plain": [
       "                         value\n",
       "timestamp                     \n",
       "2014-04-01 00:00:00  18.324919\n",
       "2014-04-01 00:05:00  21.970327\n",
       "2014-04-01 00:10:00  18.624806\n",
       "2014-04-01 00:15:00  21.953684\n",
       "2014-04-01 00:20:00  21.909120"
      ]
     },
     "execution_count": 7,
     "metadata": {},
     "output_type": "execute_result"
    }
   ],
   "source": [
    "# head returns the first 5 rows of a df. \n",
    "df_small_noise.head()"
   ]
  },
  {
   "cell_type": "code",
   "execution_count": 8,
   "id": "2923356b",
   "metadata": {},
   "outputs": [
    {
     "data": {
      "text/plain": [
       "value    18.324919\n",
       "Name: 2014-04-01 00:00:00, dtype: float64"
      ]
     },
     "execution_count": 8,
     "metadata": {},
     "output_type": "execute_result"
    }
   ],
   "source": [
    "# iloc returns data at idex specified. \n",
    "df_small_noise.iloc[0]"
   ]
  },
  {
   "cell_type": "markdown",
   "id": "e9c7f5b1",
   "metadata": {},
   "source": [
    "This is interesting development. Here, iloc has shown us the first row of data. What's curious is that the value appears to have been rounded. If you took a look at the raw data in the http earlier you would have seen the first value is differs from the value produced in the previous cell. \n",
    "\n",
    "Have a look at a screen-snip of it\n",
    "\n",
    "![smallnoise](images/small_noise.jpg)\n",
    "\n",
    "<br>\n",
    "\n",
    "The first value is 18.324918539200002 whereas my dataframe has it as 18.324919"
   ]
  },
  {
   "cell_type": "markdown",
   "id": "f85cb5cf",
   "metadata": {},
   "source": [
    "Let's look at row one using different methods:"
   ]
  },
  {
   "cell_type": "code",
   "execution_count": 9,
   "id": "10bd6f5f",
   "metadata": {},
   "outputs": [
    {
     "data": {
      "text/plain": [
       "18.3249185392"
      ]
     },
     "execution_count": 9,
     "metadata": {},
     "output_type": "execute_result"
    }
   ],
   "source": [
    "# Let's look at row 1 value.\n",
    "df_small_noise.iloc[0]['value']"
   ]
  },
  {
   "cell_type": "code",
   "execution_count": 10,
   "id": "1be4eb67",
   "metadata": {},
   "outputs": [
    {
     "data": {
      "text/plain": [
       "18.3249185392"
      ]
     },
     "execution_count": 10,
     "metadata": {},
     "output_type": "execute_result"
    }
   ],
   "source": [
    "# Let's look at row 1 value 1.\n",
    "df_small_noise.iloc[0].values[0]"
   ]
  },
  {
   "cell_type": "code",
   "execution_count": 11,
   "id": "ac87fa98",
   "metadata": {},
   "outputs": [
    {
     "data": {
      "text/plain": [
       "183249185392000.0"
      ]
     },
     "execution_count": 11,
     "metadata": {},
     "output_type": "execute_result"
    }
   ],
   "source": [
    "# Gives the closest value but still rounded\n",
    "df_small_noise.iloc[0].values[0] * 10e12"
   ]
  },
  {
   "cell_type": "markdown",
   "id": "1741c259",
   "metadata": {},
   "source": [
    "After a bit of digging I foung a blogpost on stackoverflow which can be found here: https://stackoverflow.com/questions/43227058/why-is-python-pandas-dataframe-rounding-my-values\n",
    "\n",
    "\n",
    "Someone else ran into similar issues and one response suggested it is the percision setting of pandas. When I researched the pandas documentation I found my answer here: https://pandas.pydata.org/pandas-docs/stable/user_guide/options.html#frequently-used-options\n",
    "\n",
    "\n",
    "It suggests that pandas is not changing the actual value but the way in which the value is displayed to us. Therefore, I have conclused that this is just a simple display issue which will not affect results when processing the data. "
   ]
  },
  {
   "cell_type": "markdown",
   "id": "1b1c0628",
   "metadata": {},
   "source": [
    "<h3 style=\"color: #001a79;\">Plotting timeseries data without anomalies</h3>\n",
    "\n",
    "Let's take a look at our dataframe without anomalies from the small noise csv. "
   ]
  },
  {
   "cell_type": "code",
   "execution_count": 12,
   "id": "4770a2e2",
   "metadata": {},
   "outputs": [
    {
     "data": {
      "image/png": "[encoded data removed]",
      "text/plain": [
       "<Figure size 864x432 with 1 Axes>"
      ]
     },
     "metadata": {
      "needs_background": "light"
     },
     "output_type": "display_data"
    }
   ],
   "source": [
    "# Plot without anomalies. \n",
    "fig, ax = plt.subplots(figsize=(12,6))\n",
    "plt.title(\"Figure 1 - Without Anomaly\", size=16)\n",
    "\n",
    "# ax=ax means it will create its own seet of axes . \n",
    "df_small_noise.plot(legend=False, ax=ax);"
   ]
  },
  {
   "cell_type": "markdown",
   "id": "8ac00450",
   "metadata": {},
   "source": [
    "The data in Figure 1 will be used for training the model. "
   ]
  },
  {
   "cell_type": "markdown",
   "id": "4b618476",
   "metadata": {},
   "source": [
    "<h3 style=\"color: #001a79;\">Timeseries data with anomalies</h3>\n"
   ]
  },
  {
   "cell_type": "markdown",
   "id": "d9fe7872",
   "metadata": {},
   "source": [
    "Let's take a look at the data with anomalies using pandas to read in the csv file. "
   ]
  },
  {
   "cell_type": "code",
   "execution_count": 13,
   "id": "21f20a30",
   "metadata": {},
   "outputs": [],
   "source": [
    "# jumpsup dataframe (eith anomaly) for testing.\n",
    "df_daily_jumpsup = pd.read_csv(with_anomaly_url, parse_dates=True, index_col=\"timestamp\")"
   ]
  },
  {
   "cell_type": "code",
   "execution_count": 14,
   "id": "80efcd11",
   "metadata": {},
   "outputs": [
    {
     "data": {
      "text/html": [
       "<div>\n",
       "<style scoped>\n",
       "    .dataframe tbody tr th:only-of-type {\n",
       "        vertical-align: middle;\n",
       "    }\n",
       "\n",
       "    .dataframe tbody tr th {\n",
       "        vertical-align: top;\n",
       "    }\n",
       "\n",
       "    .dataframe thead th {\n",
       "        text-align: right;\n",
       "    }\n",
       "</style>\n",
       "<table border=\"1\" class=\"dataframe\">\n",
       "  <thead>\n",
       "    <tr style=\"text-align: right;\">\n",
       "      <th></th>\n",
       "      <th>value</th>\n",
       "    </tr>\n",
       "  </thead>\n",
       "  <tbody>\n",
       "    <tr>\n",
       "      <th>count</th>\n",
       "      <td>4032.000000</td>\n",
       "    </tr>\n",
       "    <tr>\n",
       "      <th>mean</th>\n",
       "      <td>44.494254</td>\n",
       "    </tr>\n",
       "    <tr>\n",
       "      <th>std</th>\n",
       "      <td>32.432473</td>\n",
       "    </tr>\n",
       "    <tr>\n",
       "      <th>min</th>\n",
       "      <td>18.001010</td>\n",
       "    </tr>\n",
       "    <tr>\n",
       "      <th>25%</th>\n",
       "      <td>19.991382</td>\n",
       "    </tr>\n",
       "    <tr>\n",
       "      <th>50%</th>\n",
       "      <td>21.648503</td>\n",
       "    </tr>\n",
       "    <tr>\n",
       "      <th>75%</th>\n",
       "      <td>76.435943</td>\n",
       "    </tr>\n",
       "    <tr>\n",
       "      <th>max</th>\n",
       "      <td>164.947481</td>\n",
       "    </tr>\n",
       "  </tbody>\n",
       "</table>\n",
       "</div>"
      ],
      "text/plain": [
       "             value\n",
       "count  4032.000000\n",
       "mean     44.494254\n",
       "std      32.432473\n",
       "min      18.001010\n",
       "25%      19.991382\n",
       "50%      21.648503\n",
       "75%      76.435943\n",
       "max     164.947481"
      ]
     },
     "execution_count": 14,
     "metadata": {},
     "output_type": "execute_result"
    }
   ],
   "source": [
    "# describe returns descriptive analysis.\n",
    "df_daily_jumpsup.describe()"
   ]
  },
  {
   "cell_type": "code",
   "execution_count": 15,
   "id": "cb47b04f",
   "metadata": {},
   "outputs": [
    {
     "data": {
      "text/html": [
       "<div>\n",
       "<style scoped>\n",
       "    .dataframe tbody tr th:only-of-type {\n",
       "        vertical-align: middle;\n",
       "    }\n",
       "\n",
       "    .dataframe tbody tr th {\n",
       "        vertical-align: top;\n",
       "    }\n",
       "\n",
       "    .dataframe thead th {\n",
       "        text-align: right;\n",
       "    }\n",
       "</style>\n",
       "<table border=\"1\" class=\"dataframe\">\n",
       "  <thead>\n",
       "    <tr style=\"text-align: right;\">\n",
       "      <th></th>\n",
       "      <th>value</th>\n",
       "    </tr>\n",
       "    <tr>\n",
       "      <th>timestamp</th>\n",
       "      <th></th>\n",
       "    </tr>\n",
       "  </thead>\n",
       "  <tbody>\n",
       "    <tr>\n",
       "      <th>2014-04-01 00:00:00</th>\n",
       "      <td>19.761252</td>\n",
       "    </tr>\n",
       "    <tr>\n",
       "      <th>2014-04-01 00:05:00</th>\n",
       "      <td>20.500833</td>\n",
       "    </tr>\n",
       "    <tr>\n",
       "      <th>2014-04-01 00:10:00</th>\n",
       "      <td>19.961641</td>\n",
       "    </tr>\n",
       "    <tr>\n",
       "      <th>2014-04-01 00:15:00</th>\n",
       "      <td>21.490266</td>\n",
       "    </tr>\n",
       "    <tr>\n",
       "      <th>2014-04-01 00:20:00</th>\n",
       "      <td>20.187739</td>\n",
       "    </tr>\n",
       "  </tbody>\n",
       "</table>\n",
       "</div>"
      ],
      "text/plain": [
       "                         value\n",
       "timestamp                     \n",
       "2014-04-01 00:00:00  19.761252\n",
       "2014-04-01 00:05:00  20.500833\n",
       "2014-04-01 00:10:00  19.961641\n",
       "2014-04-01 00:15:00  21.490266\n",
       "2014-04-01 00:20:00  20.187739"
      ]
     },
     "execution_count": 15,
     "metadata": {},
     "output_type": "execute_result"
    }
   ],
   "source": [
    "# Returns first 5 rows. \n",
    "df_daily_jumpsup.head()"
   ]
  },
  {
   "cell_type": "code",
   "execution_count": 16,
   "id": "14fcdf19",
   "metadata": {},
   "outputs": [
    {
     "data": {
      "text/plain": [
       "19.761251903"
      ]
     },
     "execution_count": 16,
     "metadata": {},
     "output_type": "execute_result"
    }
   ],
   "source": [
    "# iloc returns specific row\n",
    "df_daily_jumpsup.iloc[0]['value']"
   ]
  },
  {
   "cell_type": "markdown",
   "id": "2f0409d8",
   "metadata": {},
   "source": [
    "We can see the same thing has happened with the displaying of data. The value of the first row is different to the raw value. However, it is only afftected when displaying data using pandas. \n",
    "\n",
    "\n",
    "![jumpsup](images/jumpsup.jpg)"
   ]
  },
  {
   "cell_type": "code",
   "execution_count": 17,
   "id": "9bc5aea2",
   "metadata": {},
   "outputs": [
    {
     "data": {
      "text/plain": [
       "(4032, 1)"
      ]
     },
     "execution_count": 17,
     "metadata": {},
     "output_type": "execute_result"
    }
   ],
   "source": [
    "# shape returns the dimensionality of df. \n",
    "df_daily_jumpsup.shape"
   ]
  },
  {
   "cell_type": "markdown",
   "id": "a1e98d14",
   "metadata": {},
   "source": [
    "<h3 style=\"color: #001a79;\">Plotting timeseries data with anomalies</h3>\n",
    "\n",
    "Let's plot the dataframe with anomaly data from the jumpsup csv. "
   ]
  },
  {
   "cell_type": "code",
   "execution_count": 18,
   "id": "ea102538",
   "metadata": {},
   "outputs": [
    {
     "data": {
      "image/png": "[encoded data removed]",
      "text/plain": [
       "<Figure size 864x432 with 1 Axes>"
      ]
     },
     "metadata": {
      "needs_background": "light"
     },
     "output_type": "display_data"
    }
   ],
   "source": [
    "# Plot with anomalies. \n",
    "fig, ax = plt.subplots(figsize=(12,6))\n",
    "plt.title(\"Figure 2 - With Anomaly\", size=16)\n",
    "\n",
    "# Use pandas to plot data frame.\n",
    "df_daily_jumpsup.plot(legend=False, ax=ax);"
   ]
  },
  {
   "cell_type": "markdown",
   "id": "f581af62",
   "metadata": {},
   "source": [
    "We can see here in Figure }two that there is a jump in the data and the range of the y-axis differes from Figure 1 suggesting an anomaly is present. This data will be used for testing the model. "
   ]
  },
  {
   "cell_type": "markdown",
   "id": "af1c1130",
   "metadata": {},
   "source": [
    "<br>\n",
    "\n",
    "<h2 style=\"color: #001a79;\">Preprocessing</h2>\n",
    "\n",
    "<hr style=\"border-top: 1px solid #001a79;\" />"
   ]
  },
  {
   "cell_type": "markdown",
   "id": "5b4dd993",
   "metadata": {},
   "source": [
    "The idea around preprocessing is to prepare data before it goes into the neural network. This is done by creating a datafrane with trained data. And then by creating a window sequence for that trained data. "
   ]
  },
  {
   "cell_type": "markdown",
   "id": "0a5e2e55",
   "metadata": {},
   "source": [
    "<h3 style=\"color: #001a79;\">Training the model</h3>"
   ]
  },
  {
   "cell_type": "markdown",
   "id": "a4671a5c",
   "metadata": {},
   "source": [
    "This is done using the data from the small noise dataframe which we saw back in Figure 1.\n",
    "\n",
    "First we get the mean and standard deviation of the values. The we subtract the mean of the values from each of the values and divide by the standard deviation. \n",
    "\n",
    "This gives use our trained data. "
   ]
  },
  {
   "cell_type": "code",
   "execution_count": 19,
   "id": "5f62c183",
   "metadata": {},
   "outputs": [
    {
     "data": {
      "text/plain": [
       "value    42.438353\n",
       "dtype: float64"
      ]
     },
     "execution_count": 19,
     "metadata": {},
     "output_type": "execute_result"
    }
   ],
   "source": [
    "# Get mean of df without anomaly.\n",
    "train_mean = df_small_noise.mean()\n",
    "\n",
    "train_mean"
   ]
  },
  {
   "cell_type": "code",
   "execution_count": 20,
   "id": "6e603a1f",
   "metadata": {},
   "outputs": [
    {
     "data": {
      "text/plain": [
       "value    28.077122\n",
       "dtype: float64"
      ]
     },
     "execution_count": 20,
     "metadata": {},
     "output_type": "execute_result"
    }
   ],
   "source": [
    "# Get std of df without anomaly.\n",
    "train_std = df_small_noise.std()\n",
    "\n",
    "train_std"
   ]
  },
  {
   "cell_type": "code",
   "execution_count": 21,
   "id": "5275267a",
   "metadata": {},
   "outputs": [],
   "source": [
    "# Subtract mean and divide by std for training values. \n",
    "df_train_vals = (df_small_noise - train_mean) / train_std"
   ]
  },
  {
   "cell_type": "code",
   "execution_count": 22,
   "id": "68e0774e",
   "metadata": {},
   "outputs": [
    {
     "data": {
      "text/html": [
       "<div>\n",
       "<style scoped>\n",
       "    .dataframe tbody tr th:only-of-type {\n",
       "        vertical-align: middle;\n",
       "    }\n",
       "\n",
       "    .dataframe tbody tr th {\n",
       "        vertical-align: top;\n",
       "    }\n",
       "\n",
       "    .dataframe thead th {\n",
       "        text-align: right;\n",
       "    }\n",
       "</style>\n",
       "<table border=\"1\" class=\"dataframe\">\n",
       "  <thead>\n",
       "    <tr style=\"text-align: right;\">\n",
       "      <th></th>\n",
       "      <th>value</th>\n",
       "    </tr>\n",
       "    <tr>\n",
       "      <th>timestamp</th>\n",
       "      <th></th>\n",
       "    </tr>\n",
       "  </thead>\n",
       "  <tbody>\n",
       "    <tr>\n",
       "      <th>2014-04-01 00:00:00</th>\n",
       "      <td>-0.858829</td>\n",
       "    </tr>\n",
       "    <tr>\n",
       "      <th>2014-04-01 00:05:00</th>\n",
       "      <td>-0.728993</td>\n",
       "    </tr>\n",
       "    <tr>\n",
       "      <th>2014-04-01 00:10:00</th>\n",
       "      <td>-0.848148</td>\n",
       "    </tr>\n",
       "    <tr>\n",
       "      <th>2014-04-01 00:15:00</th>\n",
       "      <td>-0.729586</td>\n",
       "    </tr>\n",
       "    <tr>\n",
       "      <th>2014-04-01 00:20:00</th>\n",
       "      <td>-0.731173</td>\n",
       "    </tr>\n",
       "  </tbody>\n",
       "</table>\n",
       "</div>"
      ],
      "text/plain": [
       "                        value\n",
       "timestamp                    \n",
       "2014-04-01 00:00:00 -0.858829\n",
       "2014-04-01 00:05:00 -0.728993\n",
       "2014-04-01 00:10:00 -0.848148\n",
       "2014-04-01 00:15:00 -0.729586\n",
       "2014-04-01 00:20:00 -0.731173"
      ]
     },
     "execution_count": 22,
     "metadata": {},
     "output_type": "execute_result"
    }
   ],
   "source": [
    "# Have a look at training values.\n",
    "df_train_vals.head()"
   ]
  },
  {
   "cell_type": "markdown",
   "id": "d9d5cdb2",
   "metadata": {},
   "source": [
    "We can create new columns for dataframes by simple assigning values to it. The next cell assigns values for mean and standard deviation which we can see in the dataframe below. "
   ]
  },
  {
   "cell_type": "code",
   "execution_count": 23,
   "id": "29ca8b27",
   "metadata": {},
   "outputs": [],
   "source": [
    "# New column for mean. \n",
    "df_small_noise['less_mean'] = df_small_noise['value'] - df_small_noise['value'].mean()\n",
    "\n",
    "# New column for std. \n",
    "df_small_noise['div_std'] = df_small_noise['less_mean'] / df_small_noise['value'].std()"
   ]
  },
  {
   "cell_type": "code",
   "execution_count": 24,
   "id": "19dd3cb4",
   "metadata": {},
   "outputs": [
    {
     "data": {
      "text/html": [
       "<div>\n",
       "<style scoped>\n",
       "    .dataframe tbody tr th:only-of-type {\n",
       "        vertical-align: middle;\n",
       "    }\n",
       "\n",
       "    .dataframe tbody tr th {\n",
       "        vertical-align: top;\n",
       "    }\n",
       "\n",
       "    .dataframe thead th {\n",
       "        text-align: right;\n",
       "    }\n",
       "</style>\n",
       "<table border=\"1\" class=\"dataframe\">\n",
       "  <thead>\n",
       "    <tr style=\"text-align: right;\">\n",
       "      <th></th>\n",
       "      <th>value</th>\n",
       "      <th>less_mean</th>\n",
       "      <th>div_std</th>\n",
       "    </tr>\n",
       "    <tr>\n",
       "      <th>timestamp</th>\n",
       "      <th></th>\n",
       "      <th></th>\n",
       "      <th></th>\n",
       "    </tr>\n",
       "  </thead>\n",
       "  <tbody>\n",
       "    <tr>\n",
       "      <th>2014-04-01 00:00:00</th>\n",
       "      <td>18.324919</td>\n",
       "      <td>-24.113435</td>\n",
       "      <td>-0.858829</td>\n",
       "    </tr>\n",
       "    <tr>\n",
       "      <th>2014-04-01 00:05:00</th>\n",
       "      <td>21.970327</td>\n",
       "      <td>-20.468026</td>\n",
       "      <td>-0.728993</td>\n",
       "    </tr>\n",
       "    <tr>\n",
       "      <th>2014-04-01 00:10:00</th>\n",
       "      <td>18.624806</td>\n",
       "      <td>-23.813547</td>\n",
       "      <td>-0.848148</td>\n",
       "    </tr>\n",
       "    <tr>\n",
       "      <th>2014-04-01 00:15:00</th>\n",
       "      <td>21.953684</td>\n",
       "      <td>-20.484669</td>\n",
       "      <td>-0.729586</td>\n",
       "    </tr>\n",
       "    <tr>\n",
       "      <th>2014-04-01 00:20:00</th>\n",
       "      <td>21.909120</td>\n",
       "      <td>-20.529234</td>\n",
       "      <td>-0.731173</td>\n",
       "    </tr>\n",
       "    <tr>\n",
       "      <th>...</th>\n",
       "      <td>...</td>\n",
       "      <td>...</td>\n",
       "      <td>...</td>\n",
       "    </tr>\n",
       "    <tr>\n",
       "      <th>2014-04-14 23:35:00</th>\n",
       "      <td>20.211195</td>\n",
       "      <td>-22.227159</td>\n",
       "      <td>-0.791647</td>\n",
       "    </tr>\n",
       "    <tr>\n",
       "      <th>2014-04-14 23:40:00</th>\n",
       "      <td>20.531041</td>\n",
       "      <td>-21.907313</td>\n",
       "      <td>-0.780255</td>\n",
       "    </tr>\n",
       "    <tr>\n",
       "      <th>2014-04-14 23:45:00</th>\n",
       "      <td>19.032127</td>\n",
       "      <td>-23.406226</td>\n",
       "      <td>-0.833640</td>\n",
       "    </tr>\n",
       "    <tr>\n",
       "      <th>2014-04-14 23:50:00</th>\n",
       "      <td>21.798801</td>\n",
       "      <td>-20.639552</td>\n",
       "      <td>-0.735102</td>\n",
       "    </tr>\n",
       "    <tr>\n",
       "      <th>2014-04-14 23:55:00</th>\n",
       "      <td>18.682620</td>\n",
       "      <td>-23.755733</td>\n",
       "      <td>-0.846089</td>\n",
       "    </tr>\n",
       "  </tbody>\n",
       "</table>\n",
       "<p>4032 rows × 3 columns</p>\n",
       "</div>"
      ],
      "text/plain": [
       "                         value  less_mean   div_std\n",
       "timestamp                                          \n",
       "2014-04-01 00:00:00  18.324919 -24.113435 -0.858829\n",
       "2014-04-01 00:05:00  21.970327 -20.468026 -0.728993\n",
       "2014-04-01 00:10:00  18.624806 -23.813547 -0.848148\n",
       "2014-04-01 00:15:00  21.953684 -20.484669 -0.729586\n",
       "2014-04-01 00:20:00  21.909120 -20.529234 -0.731173\n",
       "...                        ...        ...       ...\n",
       "2014-04-14 23:35:00  20.211195 -22.227159 -0.791647\n",
       "2014-04-14 23:40:00  20.531041 -21.907313 -0.780255\n",
       "2014-04-14 23:45:00  19.032127 -23.406226 -0.833640\n",
       "2014-04-14 23:50:00  21.798801 -20.639552 -0.735102\n",
       "2014-04-14 23:55:00  18.682620 -23.755733 -0.846089\n",
       "\n",
       "[4032 rows x 3 columns]"
      ]
     },
     "execution_count": 24,
     "metadata": {},
     "output_type": "execute_result"
    }
   ],
   "source": [
    "# See amended dataframe.\n",
    "df_small_noise"
   ]
  },
  {
   "cell_type": "code",
   "execution_count": 25,
   "id": "44c687cc",
   "metadata": {},
   "outputs": [
    {
     "data": {
      "text/plain": [
       "(42.438353335806646, -7.342627387941552e-14, -2.616541242931684e-15)"
      ]
     },
     "execution_count": 25,
     "metadata": {},
     "output_type": "execute_result"
    }
   ],
   "source": [
    "# Have a look at means for columns.\n",
    "df_small_noise['value'].mean(), df_small_noise['less_mean'].mean(), df_small_noise['div_std'].mean()"
   ]
  },
  {
   "cell_type": "code",
   "execution_count": 26,
   "id": "46c82729",
   "metadata": {},
   "outputs": [
    {
     "data": {
      "text/plain": [
       "(28.077122281262515, 28.077122281262508, 1.0000000000000018)"
      ]
     },
     "execution_count": 26,
     "metadata": {},
     "output_type": "execute_result"
    }
   ],
   "source": [
    "# Have a look at std of columns. std of value and less mean are the same. \n",
    "df_small_noise['value'].std(), df_small_noise['less_mean'].std(), df_small_noise['div_std'].std()"
   ]
  },
  {
   "cell_type": "markdown",
   "id": "885be526",
   "metadata": {},
   "source": [
    "<h3 style=\"color: #001a79;\">Plotting the trained data</h3>"
   ]
  },
  {
   "cell_type": "markdown",
   "id": "e056095d",
   "metadata": {},
   "source": [
    "Let's have a look at the trained data. "
   ]
  },
  {
   "cell_type": "code",
   "execution_count": 81,
   "id": "ee7d1860",
   "metadata": {},
   "outputs": [
    {
     "data": {
      "image/png": "[encoded data removed]",
      "text/plain": [
       "<Figure size 864x432 with 1 Axes>"
      ]
     },
     "metadata": {
      "needs_background": "light"
     },
     "output_type": "display_data"
    }
   ],
   "source": [
    "# Plotting the trained data\n",
    "fig, ax = plt.subplots(figsize=(12,6))\n",
    "plt.title(\"Figure 3 - Training Values\", size=16)\n",
    "\n",
    "# Use pandas to plot data frame.\n",
    "df_train_vals.plot(legend=False, ax=ax);"
   ]
  },
  {
   "cell_type": "markdown",
   "id": "987ccc2d",
   "metadata": {},
   "source": [
    "Okay so we can see from Figure 3 that training the data has changed the results if you compare it to before it was trained in Figure 1. It's basically just scaled down the y-axis. \n",
    "\n",
    "\n",
    "The reason for this is that the standard deviation shoud always be around 1. Really this figure should be centered around zero with equal distance between the high and low values. We can see here that the high values are around 1.5 whereas the low ones are at about -0.8. This suggests there are more low values than high ones because the high ones are further away from zero. \n",
    "\n",
    "\n",
    "In any case, this shouldn't affect the trained model as it should still detect an anomaly. "
   ]
  },
  {
   "cell_type": "code",
   "execution_count": 28,
   "id": "825f25be",
   "metadata": {},
   "outputs": [
    {
     "data": {
      "text/plain": [
       "(4032, 1)"
      ]
     },
     "execution_count": 28,
     "metadata": {},
     "output_type": "execute_result"
    }
   ],
   "source": [
    "# Look at shape of the trained model. \n",
    "df_train_vals.shape"
   ]
  },
  {
   "cell_type": "markdown",
   "id": "16e5a706",
   "metadata": {},
   "source": [
    "<h3 style=\"color: #001a79;\">Creating a Window Sequence</h3>\n"
   ]
  },
  {
   "cell_type": "markdown",
   "id": "88aebb76",
   "metadata": {},
   "source": [
    "What is the purpose of a window?\n",
    "\n",
    "I found a good blog post which helps explain the meaning behind a sliding window in anomaly detection. It can be found here: https://medium.com/@krzysztofdrelczuk/time-series-anomaly-detection-with-python-example-a92ef262f09a\n",
    "\n",
    "\n",
    "Basically, a sliding window is used across an array of values. Each window is the actual input the the neural network. And it will check the mean and standard deviation in each window. This is compared to the testing data. If they differ then there is an anomaly. "
   ]
  },
  {
   "cell_type": "markdown",
   "id": "073ff4d2",
   "metadata": {},
   "source": [
    "<h4 style=\"color: #001a79;\">Example of how a window works</h4>"
   ]
  },
  {
   "cell_type": "code",
   "execution_count": 29,
   "id": "16d1d378",
   "metadata": {},
   "outputs": [
    {
     "data": {
      "text/plain": [
       "12"
      ]
     },
     "execution_count": 29,
     "metadata": {},
     "output_type": "execute_result"
    }
   ],
   "source": [
    "# EXAMPLE OF HOW A WINDOW FUNCTION WILL WORK. \n",
    "\n",
    "# Dummy window list.\n",
    "L = [1, 1, 2, 4, 5, 6, 7, 1, 2, 3, 4, 5]\n",
    "\n",
    "# Example window size.\n",
    "win_size = 3\n",
    "\n",
    "# Length of L.\n",
    "len(L)"
   ]
  },
  {
   "cell_type": "code",
   "execution_count": 30,
   "id": "f2e68d3c",
   "metadata": {},
   "outputs": [
    {
     "data": {
      "text/plain": [
       "10"
      ]
     },
     "execution_count": 30,
     "metadata": {},
     "output_type": "execute_result"
    }
   ],
   "source": [
    "#Subtract number of windows from length of L.\n",
    "len(L) - (win_size - 1)"
   ]
  },
  {
   "cell_type": "code",
   "execution_count": 31,
   "id": "df70c986",
   "metadata": {},
   "outputs": [
    {
     "data": {
      "text/plain": [
       "10"
      ]
     },
     "execution_count": 31,
     "metadata": {},
     "output_type": "execute_result"
    }
   ],
   "source": [
    "# Remove brackets and gives the same response.\n",
    "len(L) - win_size + 1"
   ]
  },
  {
   "cell_type": "code",
   "execution_count": 32,
   "id": "1e78aed0",
   "metadata": {},
   "outputs": [
    {
     "name": "stdout",
     "output_type": "stream",
     "text": [
      "[1, 1, 2]\n",
      "[1, 2, 4]\n",
      "[2, 4, 5]\n",
      "[4, 5, 6]\n",
      "[5, 6, 7]\n",
      "[6, 7, 1]\n",
      "[7, 1, 2]\n",
      "[1, 2, 3]\n",
      "[2, 3, 4]\n",
      "[3, 4, 5]\n"
     ]
    }
   ],
   "source": [
    "# Print the windows from i up to i plus the window size. \n",
    "for i in range(len(L) - win_size + 1):\n",
    "    print(L[i:i + win_size])"
   ]
  },
  {
   "cell_type": "code",
   "execution_count": 33,
   "id": "527ee9a4",
   "metadata": {},
   "outputs": [
    {
     "data": {
      "text/plain": [
       "[[1, 1, 2],\n",
       " [1, 2, 4],\n",
       " [2, 4, 5],\n",
       " [4, 5, 6],\n",
       " [5, 6, 7],\n",
       " [6, 7, 1],\n",
       " [7, 1, 2],\n",
       " [1, 2, 3],\n",
       " [2, 3, 4],\n",
       " [3, 4, 5]]"
      ]
     },
     "execution_count": 33,
     "metadata": {},
     "output_type": "execute_result"
    }
   ],
   "source": [
    "# For accumulating the windows.\n",
    "wins = []\n",
    "\n",
    "# Generate the windows and add to list.\n",
    "for i in range(len(L) - win_size + 1):\n",
    "    wins.append(L[i:i + win_size])\n",
    "\n",
    "wins"
   ]
  },
  {
   "cell_type": "markdown",
   "id": "97e7e231",
   "metadata": {},
   "source": [
    "Numpy has a has quite a useful method called stack. Basically, it takes in a sequence for example a the wins list. And it returns these wins in a single numpy array. \n",
    "\n",
    "Offical documentation can be found here: https://numpy.org/doc/stable/reference/generated/numpy.stack.html"
   ]
  },
  {
   "cell_type": "code",
   "execution_count": 34,
   "id": "50f28773",
   "metadata": {},
   "outputs": [
    {
     "data": {
      "text/plain": [
       "array([[1, 1, 2],\n",
       "       [1, 2, 4],\n",
       "       [2, 4, 5],\n",
       "       [4, 5, 6],\n",
       "       [5, 6, 7],\n",
       "       [6, 7, 1],\n",
       "       [7, 1, 2],\n",
       "       [1, 2, 3],\n",
       "       [2, 3, 4],\n",
       "       [3, 4, 5]])"
      ]
     },
     "execution_count": 34,
     "metadata": {},
     "output_type": "execute_result"
    }
   ],
   "source": [
    "# Create a 2D numpy array from wins.\n",
    "np.stack(wins)"
   ]
  },
  {
   "cell_type": "markdown",
   "id": "720040a4",
   "metadata": {},
   "source": [
    "<h3 style=\"color: #001a79;\">Generating the window sequence</h3>"
   ]
  },
  {
   "cell_type": "markdown",
   "id": "b54def55",
   "metadata": {},
   "source": [
    "Now that we understand how create a sliding window and what it is used for we need to generate one for the training model. "
   ]
  },
  {
   "cell_type": "code",
   "execution_count": 35,
   "id": "52341b47",
   "metadata": {},
   "outputs": [],
   "source": [
    "# Setting the window size for trained model. \n",
    "window_size = 288"
   ]
  },
  {
   "cell_type": "code",
   "execution_count": 36,
   "id": "257b12ba",
   "metadata": {},
   "outputs": [],
   "source": [
    "# Function to create the window.\n",
    "def windows(vals, N=window_size):\n",
    "  # Start with an empty list.\n",
    "  L = []\n",
    "  # loop through all possible windows\n",
    "  for i in range(len(vals) - N + 1):\n",
    "    # Append window to list.\n",
    "    L.append(vals[i:i+N])\n",
    "  # Stack them in np array. \n",
    "  return np.stack(L)"
   ]
  },
  {
   "cell_type": "markdown",
   "id": "f01f7471",
   "metadata": {},
   "source": [
    "This function takes the values and the window size. Loops through all the possible windows of those values, appends them to a list and converts that list into a numpy array. "
   ]
  },
  {
   "cell_type": "code",
   "execution_count": 37,
   "id": "246d5260",
   "metadata": {},
   "outputs": [],
   "source": [
    "# Create the window sequence for training values. \n",
    "x_train = windows(df_train_vals)"
   ]
  },
  {
   "cell_type": "markdown",
   "id": "ad04a334",
   "metadata": {},
   "source": [
    "Now that the window sequences have been created lets compare the first and last values of the windows to the first and last values of the training model. "
   ]
  },
  {
   "cell_type": "code",
   "execution_count": 38,
   "id": "8469250a",
   "metadata": {},
   "outputs": [
    {
     "data": {
      "text/plain": [
       "(array([-0.85882857]), array([-0.8460886]))"
      ]
     },
     "execution_count": 38,
     "metadata": {},
     "output_type": "execute_result"
    }
   ],
   "source": [
    "# Shows first and last values of the windows array.  \n",
    "x_train[0][0], x_train[-1][-1]"
   ]
  },
  {
   "cell_type": "code",
   "execution_count": 39,
   "id": "39e682a0",
   "metadata": {},
   "outputs": [
    {
     "data": {
      "text/plain": [
       "(value   -0.858829\n",
       " Name: 2014-04-01 00:00:00, dtype: float64,\n",
       " value   -0.846089\n",
       " Name: 2014-04-14 23:55:00, dtype: float64)"
      ]
     },
     "execution_count": 39,
     "metadata": {},
     "output_type": "execute_result"
    }
   ],
   "source": [
    "# Shows frist and last values of the training values. \n",
    "df_train_vals.iloc[0], df_train_vals.iloc[-1]"
   ]
  },
  {
   "cell_type": "markdown",
   "id": "27cfb3a8",
   "metadata": {},
   "source": [
    "Okay so we can see they're pretty much the same which is good. Pandas has rounded the values again but as already stated this won't affect my results. "
   ]
  },
  {
   "cell_type": "code",
   "execution_count": 40,
   "id": "5cb9269c",
   "metadata": {},
   "outputs": [
    {
     "data": {
      "text/plain": [
       "(3745, 288, 1)"
      ]
     },
     "execution_count": 40,
     "metadata": {},
     "output_type": "execute_result"
    }
   ],
   "source": [
    "# Check the shape\n",
    "x_train.shape"
   ]
  },
  {
   "cell_type": "code",
   "execution_count": 41,
   "id": "82527944",
   "metadata": {},
   "outputs": [
    {
     "data": {
      "text/plain": [
       "array([-0.85882857, -0.72899302, -0.84814772, ..., -0.83364049,\n",
       "       -0.73510213, -0.8460886 ])"
      ]
     },
     "execution_count": 41,
     "metadata": {},
     "output_type": "execute_result"
    }
   ],
   "source": [
    "# Pull out values of the training model. \n",
    "df_train_vals['value'].values"
   ]
  },
  {
   "cell_type": "markdown",
   "id": "ded970d1",
   "metadata": {},
   "source": [
    "Numpy has another useful method flatten. This take a 2D arrray and flattens it into one dimension. The reason we are flattening this is so we can use it more efficently in the neural network. \n",
    "\n",
    "Offical documentation can be found here: https://numpy.org/doc/stable/reference/generated/numpy.ndarray.flatten.html"
   ]
  },
  {
   "cell_type": "code",
   "execution_count": 42,
   "id": "cbfba5b1",
   "metadata": {},
   "outputs": [
    {
     "data": {
      "text/plain": [
       "array([-0.85882857, -0.72899302, -0.84814772, -0.72958579, -0.731173  ,\n",
       "       -0.75730984, -0.77645641, -0.7880838 , -0.747012  , -0.829166  ,\n",
       "       -0.80377285, -0.7821597 , -0.81182078, -0.80949918, -0.82334701,\n",
       "       -0.79001779, -0.74922405, -0.84169024, -0.73727717, -0.77223023,\n",
       "       -0.75311352, -0.79116337, -0.75934728, -0.86809294, -0.75381057,\n",
       "       -0.86468256, -0.74361965, -0.72908121, -0.82850668, -0.84043795,\n",
       "       -0.76136364, -0.8343536 , -0.74708881, -0.85574949, -0.85245676,\n",
       "       -0.73090636, -0.77440264, -0.74974936, -0.82419543, -0.77402585,\n",
       "       -0.78574242, -0.7844733 , -0.77316412, -0.78843253, -0.80927467,\n",
       "       -0.83109167, -0.76090519, -0.83816509, -0.77176485, -0.83715923,\n",
       "       -0.78131343, -0.76396862, -0.83924191, -0.86186112, -0.85174179,\n",
       "       -0.78406773, -0.74938477, -0.86399047, -0.76581026, -0.82177506,\n",
       "       -0.80222751, -0.73807119, -0.82310669, -0.80410682, -0.86845167,\n",
       "       -0.85877599, -0.83356075, -0.86643297, -0.78045221, -0.8096542 ,\n",
       "       -0.79230956, -0.84551986, -0.82824105, -0.77582935, -0.73287933,\n",
       "       -0.86321832, -0.74355256, -0.7882157 , -0.79006227, -0.79912888,\n",
       "       -0.86051472, -0.85759665, -0.78479216, -0.82182635, -0.73972257,\n",
       "       -0.81247611, -0.84998837, -0.76857869, -0.82860841, -0.79553994,\n",
       "       -0.77098436, -0.74214503, -0.75754161, -0.77404332, -0.77357716,\n",
       "       -0.73564002, -0.82825643, -0.8702425 , -0.83165699, -0.83935909,\n",
       "       -0.77611284, -0.78011937, -0.78585361, -0.86808681, -0.76657575,\n",
       "       -0.82430925, -0.7756539 , -0.79110813,  0.83423034,  0.73340436,\n",
       "        0.71395293,  1.07098925,  1.11307181,  0.98296271,  0.71831972,\n",
       "        0.86295228,  1.02130195,  1.04594803,  0.72548104,  0.66823317,\n",
       "        1.36958529,  1.17305538,  1.11661005,  0.98307138,  1.27459976,\n",
       "        1.44642694,  1.50528567,  1.28866513,  1.26031743,  1.02295817,\n",
       "        1.27933882,  1.18598059,  1.3813925 ,  1.25767699,  1.1736019 ,\n",
       "        1.09127902,  1.21586925,  1.09223039,  1.13768838,  1.59675342,\n",
       "        1.28904484,  1.33876025,  1.53233922,  1.60141677,  1.38146244,\n",
       "        1.51223576,  1.23588256,  1.22381772,  1.2790048 ,  1.43257027,\n",
       "        1.43808241,  1.22922231,  1.12561563,  1.40974009,  1.12283575,\n",
       "        1.37905941,  1.44731563,  1.45141157,  1.48152744,  1.54954504,\n",
       "        1.33709539,  1.46829683,  1.4050141 ,  1.15859057,  1.06689361,\n",
       "        1.21436719,  1.30466379,  1.40383661,  1.53708371,  1.16457702,\n",
       "        1.12429225,  1.60177134,  1.11431721,  1.32540935,  1.38642273,\n",
       "        1.36124227,  1.10177385,  1.08524575,  1.1128578 ,  1.38643638,\n",
       "        1.36304532,  1.18604649,  1.41628631,  1.52016681,  1.07654239,\n",
       "        1.33670957,  1.44565443,  1.19662931,  1.22823281,  1.40253218,\n",
       "        1.56454005,  1.51438674,  1.38516952,  1.46899077,  1.26076513,\n",
       "        1.41812743,  1.31852542,  1.16110478,  1.45275926,  1.36997393,\n",
       "        1.25723151,  1.57220199,  1.06479764,  1.23281399,  1.08528647,\n",
       "        1.48968441,  1.45297419,  1.24169607,  1.43790453,  1.2785004 ,\n",
       "        1.48382995,  1.31169265,  1.28781332,  1.58553613,  1.19583776,\n",
       "        1.12151008, -0.35250349, -0.26479567, -0.39962031, -0.47160544,\n",
       "       -0.40840388, -0.37042247, -0.44883702, -0.33573617, -0.25831579,\n",
       "       -0.38277522, -0.40488824, -0.39440839, -0.77509723, -0.65253443,\n",
       "       -0.72728022, -0.73167631, -0.6882095 , -0.72293893, -0.69003755,\n",
       "       -0.78366561, -0.6636319 , -0.64340272, -0.68995268, -0.64115899,\n",
       "       -0.83292321, -0.78536741, -0.76722084, -0.77014874, -0.79644794,\n",
       "       -0.80569367, -0.83651316, -0.79786583, -0.83128515, -0.74788262,\n",
       "       -0.82454968, -0.84647101, -0.78825327, -0.78211741, -0.74251058,\n",
       "       -0.7847296 , -0.8178686 , -0.75237369, -0.78998354, -0.85597483,\n",
       "       -0.78632299, -0.73734213, -0.81059211, -0.82490508, -0.84932652,\n",
       "       -0.84818912, -0.80807162, -0.78484064, -0.8582896 , -0.73580158,\n",
       "       -0.76210229, -0.78613203, -0.75164888, -0.85835073, -0.80178754,\n",
       "       -0.77993325, -0.75220135, -0.75863962, -0.83079766, -0.73620985,\n",
       "       -0.85255954, -0.74557822, -0.73192653, -0.84503486, -0.76738913,\n",
       "       -0.86453747, -0.81250829, -0.79671155])"
      ]
     },
     "execution_count": 42,
     "metadata": {},
     "output_type": "execute_result"
    }
   ],
   "source": [
    "# FLATTEN GETS RID OF ALL INNER ARRAYS AND FLATTENS THEM OUT\n",
    "x_train[0].flatten()"
   ]
  },
  {
   "cell_type": "markdown",
   "id": "3e3303bb",
   "metadata": {},
   "source": [
    "<h3 style=\"color: #001a79;\">Plotting the Window Sequence</h3>"
   ]
  },
  {
   "cell_type": "code",
   "execution_count": 43,
   "id": "542c99f9",
   "metadata": {},
   "outputs": [
    {
     "data": {
      "image/png": "[encoded data removed]",
      "text/plain": [
       "<Figure size 864x432 with 1 Axes>"
      ]
     },
     "metadata": {
      "needs_background": "light"
     },
     "output_type": "display_data"
    }
   ],
   "source": [
    "# Assign window number\n",
    "window_no = 200\n",
    "\n",
    "# Plotting the window\n",
    "fig, ax = plt.subplots(figsize=(12, 6))\n",
    "plt.title(\"Figure 4 - Window Sequence\", size=16)\n",
    "\n",
    "# Pull out training values for y\n",
    "y = df_train_vals['value'].values\n",
    "\n",
    "# Create an array\n",
    "ax.plot(np.arange(y.shape[0]), y, label='signal')\n",
    "\n",
    "# Assign the first window. \n",
    "w = x_train[window_no].flatten()\n",
    "\n",
    "# PLot the first windw on top the the training values.\n",
    "ax.plot(np.arange(w.shape[0]) + window_no, w, label='window')\n",
    "\n",
    "ax.legend();"
   ]
  },
  {
   "cell_type": "markdown",
   "id": "5aae14e6",
   "metadata": {},
   "source": [
    "<br>\n",
    "\n",
    "<h2 style=\"color: #001a79;\">Neural Network</h2>\n",
    "\n",
    "<hr style=\"border-top: 1px solid #001a79;\" />"
   ]
  },
  {
   "cell_type": "markdown",
   "id": "2362c840",
   "metadata": {},
   "source": [
    "A neural network is like a basket of neurons. These neurons take in inputs and give outputs. The neurons in the network are all connected. An example of a neural network is Google's search algorithm. A search is input in and google returns an output of results based on that input. \n",
    "\n",
    "For more on neural networks check out this nice blog I found: https://www.ibm.com/cloud/learn/neural-networks"
   ]
  },
  {
   "cell_type": "code",
   "execution_count": 44,
   "id": "6e9f3c1a",
   "metadata": {},
   "outputs": [
    {
     "data": {
      "text/plain": [
       "(3745, 288, 1)"
      ]
     },
     "execution_count": 44,
     "metadata": {},
     "output_type": "execute_result"
    }
   ],
   "source": [
    "# Check out the shape of the window sequence\n",
    "x_train.shape"
   ]
  },
  {
   "cell_type": "markdown",
   "id": "cf720b80",
   "metadata": {},
   "source": [
    "<h3 style=\"color: #001a79;\">Layers</h3>"
   ]
  },
  {
   "cell_type": "markdown",
   "id": "95c4259b",
   "metadata": {},
   "source": [
    "The keras documentation states that layers are like building blocks for neural networks. In other words, each layer contributes to the foundation of the neural network. \n",
    "\n",
    "\n",
    "Let's explore the layers used in the code cell below:\n",
    "\n",
    "\n",
    "- `Input` - the input layer decides the shape of the network. In the cell below I have passed in the trained input shape and the trained output shape. It is possible to only select an inpupt shape, however, the idea of the training model is to train the input and output so that when an anomaly occures it can be detected. \n",
    "\n",
    "\n",
    "\n",
    "- `Conv1D` - the 1D convolution layer is important as it combines two signals to form a third one. In other words, the relationship between the input and output is expressed through this third signal. This is a good blogpost about the meaning behind convolution: https://www.tutorialspoint.com/what-is-convolution-in-signals-and-systems\n",
    "\n",
    "\n",
    "\n",
    "- `Dropout` - the dropout layer is used to input units to 0 with the specified rate. The idea of this is to prevent overfitting. In other words, we don't have the results produced to return the exact same data. \n",
    "\n",
    "\n",
    "\n",
    "- `Conv1DTranspose` - the 1D convolution transpose layer does what the basic convolution layer does but with a modified input feature map. What this means is that the it is taking in the input signal, transforming it a bit and combining it with the output signal and give a thrid signal. \n",
    "\n",
    "\n",
    "\n",
    "Offical documentation can be found here: https://keras.io/api/layers/#:~:text=Layers%20are%20the%20basic%20building,variables%20(the%20layer%27s%20weights)."
   ]
  },
  {
   "cell_type": "code",
   "execution_count": 45,
   "id": "4721f8d4",
   "metadata": {},
   "outputs": [],
   "source": [
    "# Building block for neural network.\n",
    "layers = [\n",
    "  # Determine shape of neural network.\n",
    "  keras.layers.Input(shape=(x_train.shape[1], x_train.shape[2])),\n",
    "  # To combine 1D signals.\n",
    "  keras.layers.Conv1D(filters=32, kernel_size=7, padding=\"same\", strides=2, activation=\"relu\"),\n",
    "  # To prevent overfitting.\n",
    "  keras.layers.Dropout(rate=0.2),\n",
    "  # To combine 1D signals again.\n",
    "  keras.layers.Conv1D(filters=16, kernel_size=7, padding=\"same\", strides=2, activation=\"relu\"),\n",
    "  # To combine 1D signals while transforming input signal\n",
    "  keras.layers.Conv1DTranspose(filters=16, kernel_size=7, padding=\"same\", strides=2, activation=\"relu\"),\n",
    "  #To prevent overfitting again.\n",
    "  keras.layers.Dropout(rate=0.2),\n",
    "  # To combine 1D signals while transforming input signal again.\n",
    "  keras.layers.Conv1DTranspose(filters=32, kernel_size=7, padding=\"same\", strides=2, activation=\"relu\"),\n",
    "  # To combine 1D signals while transforming input signal again.\n",
    "  keras.layers.Conv1DTranspose(filters=1, kernel_size=7, padding=\"same\"),\n",
    "]"
   ]
  },
  {
   "cell_type": "markdown",
   "id": "b7e21898",
   "metadata": {},
   "source": [
    "<h5>Sequential</h5>\n",
    "\n",
    "In the code cell below the `Sequential` method is used. This stipulates that the way the layers are listed above is the exact order in which the blocks will be built. We can see that some layers are used multiple times. This is part of the design of the neural network and is intended to be layered in this order. "
   ]
  },
  {
   "cell_type": "code",
   "execution_count": 46,
   "id": "cd2f3367",
   "metadata": {},
   "outputs": [],
   "source": [
    "# To build the network in the exact order of layers. \n",
    "model = keras.Sequential(layers)"
   ]
  },
  {
   "cell_type": "markdown",
   "id": "1044b814",
   "metadata": {},
   "source": [
    "<h5>Adam Optimization</h5>\n",
    "\n",
    "Adam is a class of the optimizer method within Keras. It is considered to be one of the best optimizers. The official Keras documentation states:\n",
    "\n",
    "\n",
    "> Adam optimization is a stochastic gradient descent method that is based on adaptive estimation of first-order and second-order moments.\n",
    "\n",
    "\n",
    "Basically, the stochastic gradient decent is an iterative method which maintains a single learning rate. This rate does not change for the duration of the test. The Adam is used here as it is known for achieving good, results fast. The idea behind an optimizer is to change some attributes of the model to to smooth out any bumps to reduce the losses so that we can help faster results.\n",
    "\n",
    "\n",
    "There is a nice blog which introduces the idea of Adam optimization. It can be found here: https://machinelearningmastery.com/adam-optimization-algorithm-for-deep-learning/"
   ]
  },
  {
   "cell_type": "code",
   "execution_count": 47,
   "id": "208bb697",
   "metadata": {},
   "outputs": [],
   "source": [
    "# Optimization for stochastic gradient descent.\n",
    "optimizer = keras.optimizers.Adam(learning_rate=0.001)"
   ]
  },
  {
   "cell_type": "markdown",
   "id": "becf37b6",
   "metadata": {},
   "source": [
    "<h5>Losses</h5>\n",
    "\n",
    "I mentioned this idea of losses previously. The loss function is used as part of the optimization process. This is done because the error for the current state of the training model must be estimated on a continuous basis. To allow for this error we introduce a loss function. This produces an estimate so the state can be updated which will reduce the loss on the next window evaluation. \n",
    "\n",
    "We introduce our loss through the compile method. All this means is that we are compliling out model using the mse loss function. "
   ]
  },
  {
   "cell_type": "code",
   "execution_count": 48,
   "id": "0697883d",
   "metadata": {},
   "outputs": [],
   "source": [
    "# complile it - LOADS OUT THERE ON LOSS MSE\n",
    "model.compile(optimizer=optimizer, loss=\"mse\")"
   ]
  },
  {
   "cell_type": "markdown",
   "id": "1fa5de17",
   "metadata": {},
   "source": [
    "<h5>Mean Squared Error (MSE)</h5>\n",
    "\n",
    "MSE is one of the loss function classes available in Keras. The official documentation states that it calculates the mean of squares of errors between labels and predictions. \n",
    "\n",
    "\n",
    "We have established that we are using a loss function to reduce the loss for the next evaluation but why MSE? \n",
    "\n",
    "\n",
    "MSE is considered to be the simplest loss function available to us. There is a nice blog I found which explains it quite well. The MSE takes the difference between the model's predictions and the actual data and squares it. Next you get the average across the whole dataset. \n",
    "\n",
    "The blog can be found here: https://towardsdatascience.com/understanding-the-3-most-common-loss-functions-for-machine-learning-regression-23e0ef3e14d3"
   ]
  },
  {
   "cell_type": "markdown",
   "id": "98831e65",
   "metadata": {},
   "source": [
    "<h5>Summary</h5>\n",
    "\n",
    "This is a useful method which returns a summary of each layer of the neural network including the layer type, shape and number of weight parameters in each layer. We can see the summary has produces data in the same order the layers were input. This is because we passed the layers into the sequential method. The main aspect to take from this table is that out of 9505 parameters all are trainable. "
   ]
  },
  {
   "cell_type": "code",
   "execution_count": 49,
   "id": "3a95e2d8",
   "metadata": {},
   "outputs": [
    {
     "name": "stdout",
     "output_type": "stream",
     "text": [
      "Model: \"sequential\"\n",
      "_________________________________________________________________\n",
      " Layer (type)                Output Shape              Param #   \n",
      "=================================================================\n",
      " conv1d (Conv1D)             (None, 144, 32)           256       \n",
      "                                                                 \n",
      " dropout (Dropout)           (None, 144, 32)           0         \n",
      "                                                                 \n",
      " conv1d_1 (Conv1D)           (None, 72, 16)            3600      \n",
      "                                                                 \n",
      " conv1d_transpose (Conv1DTra  (None, 144, 16)          1808      \n",
      " nspose)                                                         \n",
      "                                                                 \n",
      " dropout_1 (Dropout)         (None, 144, 16)           0         \n",
      "                                                                 \n",
      " conv1d_transpose_1 (Conv1DT  (None, 288, 32)          3616      \n",
      " ranspose)                                                       \n",
      "                                                                 \n",
      " conv1d_transpose_2 (Conv1DT  (None, 288, 1)           225       \n",
      " ranspose)                                                       \n",
      "                                                                 \n",
      "=================================================================\n",
      "Total params: 9,505\n",
      "Trainable params: 9,505\n",
      "Non-trainable params: 0\n",
      "_________________________________________________________________\n"
     ]
    }
   ],
   "source": [
    "# Summary of network\n",
    "model.summary()"
   ]
  },
  {
   "cell_type": "markdown",
   "id": "e44d793a",
   "metadata": {},
   "source": [
    "<h5>Model Fit</h5>\n",
    "\n",
    "Now that the model has been configured and compliled we need to train it. This is done in the code cell below using the model fit method. \n",
    "\n",
    "\n",
    "When training the model we need to consider what we are looking for. There are a number of parameters which need to be passed in to train the model. \n",
    "\n",
    "Parameters:\n",
    "\n",
    "- input data: we are passing in the trained data set for the input data. \n",
    "\n",
    "\n",
    "- target data: again we are using the same trained data as the target output. This is because we are trying to train the model on both the input and the output being the same. \n",
    "\n",
    "\n",
    "- epochs: this an arbitrary cutoff where the training will happen until the cutoff has been reached. \n",
    "\n",
    "\n",
    "- batch size: is used to determine how many windows are pushed in at one time. \n",
    "\n",
    "\n",
    "- valudation split: This is to hold back a certain amount for validation. \n",
    "\n",
    "\n",
    "- callbacks: to stop the training process if the monitored metrics has stopped improving. "
   ]
  },
  {
   "cell_type": "code",
   "execution_count": 50,
   "id": "9f74c735",
   "metadata": {},
   "outputs": [
    {
     "name": "stdout",
     "output_type": "stream",
     "text": [
      "Epoch 1/50\n",
      "27/27 [==============================] - 9s 184ms/step - loss: 0.5725 - val_loss: 0.3783\n",
      "Epoch 2/50\n",
      "27/27 [==============================] - 4s 160ms/step - loss: 0.2705 - val_loss: 0.0477\n",
      "Epoch 3/50\n",
      "27/27 [==============================] - 4s 159ms/step - loss: 0.0683 - val_loss: 0.0400\n",
      "Epoch 4/50\n",
      "27/27 [==============================] - 5s 198ms/step - loss: 0.0500 - val_loss: 0.0345\n",
      "Epoch 5/50\n",
      "27/27 [==============================] - 7s 248ms/step - loss: 0.0434 - val_loss: 0.0326\n",
      "Epoch 6/50\n",
      "27/27 [==============================] - 5s 193ms/step - loss: 0.0392 - val_loss: 0.0319\n",
      "Epoch 7/50\n",
      "27/27 [==============================] - 5s 200ms/step - loss: 0.0358 - val_loss: 0.0297\n",
      "Epoch 8/50\n",
      "27/27 [==============================] - 6s 234ms/step - loss: 0.0328 - val_loss: 0.0277\n",
      "Epoch 9/50\n",
      "27/27 [==============================] - 6s 225ms/step - loss: 0.0305 - val_loss: 0.0283\n",
      "Epoch 10/50\n",
      "27/27 [==============================] - 6s 212ms/step - loss: 0.0286 - val_loss: 0.0288\n",
      "Epoch 11/50\n",
      "27/27 [==============================] - 5s 199ms/step - loss: 0.0270 - val_loss: 0.0280\n",
      "Epoch 12/50\n",
      "27/27 [==============================] - 5s 184ms/step - loss: 0.0255 - val_loss: 0.0306\n",
      "Epoch 13/50\n",
      "27/27 [==============================] - 5s 193ms/step - loss: 0.0243 - val_loss: 0.0342\n"
     ]
    }
   ],
   "source": [
    "# Training the model. \n",
    "history = model.fit(\n",
    "    x_train, \n",
    "    x_train,\n",
    "    epochs=50,\n",
    "    batch_size=128, \n",
    "    validation_split=0.1, \n",
    "    callbacks=[keras.callbacks.EarlyStopping(monitor=\"val_loss\", patience=5, mode=\"min\")],\n",
    ")"
   ]
  },
  {
   "cell_type": "markdown",
   "id": "4e709099",
   "metadata": {},
   "source": [
    "We can see from the out of the cell. The the process cut off at 50 as was selected. We can also see the seconds it took to process, the step it took, the loss and the validation loss for each round of training. \n",
    "\n",
    "\n",
    "Now both our data and model have been trained. The next step is the evaluation process. "
   ]
  },
  {
   "cell_type": "markdown",
   "id": "05e2916e",
   "metadata": {},
   "source": [
    "<br>\n",
    "\n",
    "<h2 style=\"color: #001a79;\">Evaluation</h2>\n",
    "\n",
    "<hr style=\"border-top: 1px solid #001a79;\" />"
   ]
  },
  {
   "cell_type": "markdown",
   "id": "dd0538da",
   "metadata": {},
   "source": [
    "IN THIS SECITON BLAH BLAH BLAH\n",
    "\n"
   ]
  },
  {
   "cell_type": "markdown",
   "id": "1c4b6a70",
   "metadata": {},
   "source": [
    "<h3 style=\"color: #001a79;\">History</h3>"
   ]
  },
  {
   "cell_type": "markdown",
   "id": "b3f75183",
   "metadata": {},
   "source": [
    "Another parameter of the model fit method is a history dictionary. This means we can access the history of the fitted model. For example in the cells below, we can see the loss history and the value loss history. "
   ]
  },
  {
   "cell_type": "code",
   "execution_count": 51,
   "id": "53184dd7",
   "metadata": {},
   "outputs": [
    {
     "data": {
      "text/plain": [
       "[0.5725258588790894,\n",
       " 0.2705123722553253,\n",
       " 0.06827884912490845,\n",
       " 0.0500243715941906,\n",
       " 0.043389249593019485,\n",
       " 0.03924771025776863,\n",
       " 0.035848040133714676,\n",
       " 0.03281605988740921,\n",
       " 0.030488718301057816,\n",
       " 0.028630247339606285,\n",
       " 0.026971641927957535,\n",
       " 0.025522354990243912,\n",
       " 0.024339113384485245]"
      ]
     },
     "execution_count": 51,
     "metadata": {},
     "output_type": "execute_result"
    }
   ],
   "source": [
    "# Retrieve loss history of the trained model.\n",
    "history.history[\"loss\"]"
   ]
  },
  {
   "cell_type": "code",
   "execution_count": 52,
   "id": "87d6f18a",
   "metadata": {},
   "outputs": [
    {
     "data": {
      "text/plain": [
       "[0.3783091902732849,\n",
       " 0.047668397426605225,\n",
       " 0.03999587520956993,\n",
       " 0.034491222351789474,\n",
       " 0.03258384019136429,\n",
       " 0.03187742456793785,\n",
       " 0.029672328382730484,\n",
       " 0.027694692835211754,\n",
       " 0.028283411636948586,\n",
       " 0.028825342655181885,\n",
       " 0.028024347499012947,\n",
       " 0.030558688566088676,\n",
       " 0.03423411026597023]"
      ]
     },
     "execution_count": 52,
     "metadata": {},
     "output_type": "execute_result"
    }
   ],
   "source": [
    "# Retrieve value oss history of the trained model.\n",
    "history.history[\"val_loss\"]"
   ]
  },
  {
   "cell_type": "markdown",
   "id": "3cd83a00",
   "metadata": {},
   "source": [
    "<h3 style=\"color: #001a79;\">Plotting the loss history</h3>\n",
    "\n",
    "The idea behind accessing these history values is that now we visualise them through a plot. The question is, what are we trying to plot?\n",
    "\n",
    "\n",
    "There is a nice article on learning curves which touches on loss and validation losss. It explains that the loss tells us how well our model is fitting the training data. Whereas the validation loss reflects how well the model fitting the testing data. \n",
    "\n",
    "Article can be found here: https://www.baeldung.com/cs/learning-curve-ml"
   ]
  },
  {
   "cell_type": "code",
   "execution_count": 53,
   "id": "e72c8999",
   "metadata": {},
   "outputs": [
    {
     "data": {
      "image/png": "[encoded data removed]",
      "text/plain": [
       "<Figure size 864x432 with 1 Axes>"
      ]
     },
     "metadata": {
      "needs_background": "light"
     },
     "output_type": "display_data"
    }
   ],
   "source": [
    "# Plot the loss history. \n",
    "fig, ax = plt.subplots(figsize=(12, 6))\n",
    "plt.title(\"Figure 5 - History losses\", size=16)\n",
    " \n",
    "# Training loss history.\n",
    "ax.plot(history.history[\"loss\"], label=\"Training Loss\")\n",
    "# Validation loss history. \n",
    "ax.plot(history.history[\"val_loss\"], label=\"Validation Loss\")\n",
    "\n",
    "ax.legend();"
   ]
  },
  {
   "cell_type": "markdown",
   "id": "d723b212",
   "metadata": {},
   "source": [
    "What we can see in Figure 5 is the loss on the y-axis and the attempts on the x-axis. This is suggesting that the valdation loss has a good training rate. And the training loss seems to be a bit higher but both losses appear to be working in a similar manner which indicated the model is working."
   ]
  },
  {
   "cell_type": "markdown",
   "id": "e3c25377",
   "metadata": {},
   "source": [
    "<h3 style=\"color: #001a79;\">Predict training values loss</h3>\n",
    "\n",
    "Next step is to predict the training loss. This is done using the model predict method in keras. This helps fits into the model well and perdicts the outcome of the data. "
   ]
  },
  {
   "cell_type": "code",
   "execution_count": 54,
   "id": "82695db8",
   "metadata": {},
   "outputs": [
    {
     "name": "stdout",
     "output_type": "stream",
     "text": [
      "118/118 [==============================] - 4s 26ms/step\n"
     ]
    }
   ],
   "source": [
    "# Predict training outcome.\n",
    "x_train_pred = model.predict(x_train)"
   ]
  },
  {
   "cell_type": "markdown",
   "id": "e24aa82c",
   "metadata": {},
   "source": [
    "Once the prediction has been made we now need to calculate the MSE loss. This is done by subtracting the window sequence from the trained prediction data and retrieving the mean. "
   ]
  },
  {
   "cell_type": "code",
   "execution_count": 55,
   "id": "8a17c185",
   "metadata": {},
   "outputs": [],
   "source": [
    "# Calculate the loss of predicted training outcome. \n",
    "train_mae_loss = np.mean(np.abs(x_train_pred - x_train), axis=1)"
   ]
  },
  {
   "cell_type": "code",
   "execution_count": 56,
   "id": "6d464df0",
   "metadata": {},
   "outputs": [
    {
     "data": {
      "image/png": "[encoded data removed]",
      "text/plain": [
       "<Figure size 864x432 with 1 Axes>"
      ]
     },
     "metadata": {
      "needs_background": "light"
     },
     "output_type": "display_data"
    }
   ],
   "source": [
    "# Plot the predicted loss.  \n",
    "fig, ax = plt.subplots(figsize=(12, 6))\n",
    "plt.title(\"Figure 6 - Predicted training Loss\", size=16)\n",
    "\n",
    "# Histogram of predicted loss \n",
    "ax.hist(train_mae_loss, bins=50)\n",
    "# Loss\n",
    "ax.set_xlabel(\"Train MAE loss\")\n",
    "# Samples\n",
    "ax.set_ylabel(\"No of samples\");"
   ]
  },
  {
   "cell_type": "markdown",
   "id": "1cf4218f",
   "metadata": {},
   "source": [
    "In Figure 6 we can see the predicted training loss. This histogram is showing us that there model did pretty well. The loss isn't that much given the number of samples it processed. \n"
   ]
  },
  {
   "cell_type": "code",
   "execution_count": 57,
   "id": "2747a107",
   "metadata": {},
   "outputs": [
    {
     "data": {
      "text/plain": [
       "0.13780041065919696"
      ]
     },
     "execution_count": 57,
     "metadata": {},
     "output_type": "execute_result"
    }
   ],
   "source": [
    "# Get reconstruction loss threshold.\n",
    "threshold = np.max(train_mae_loss)\n",
    "\n",
    "# Shows the maximun loss of the predicted outcome.\n",
    "threshold"
   ]
  },
  {
   "cell_type": "code",
   "execution_count": 79,
   "id": "df940ae9",
   "metadata": {},
   "outputs": [
    {
     "data": {
      "image/png": "[encoded data removed]",
      "text/plain": [
       "<Figure size 864x432 with 1 Axes>"
      ]
     },
     "metadata": {
      "needs_background": "light"
     },
     "output_type": "display_data"
    }
   ],
   "source": [
    "# PLotting training against what the neural network is predicting the output should be.\n",
    "fig, ax = plt.subplots(figsize=(12, 6))\n",
    "plt.title(\"Figure 7 - Training vs Prediction\", size=16)\n",
    "\n",
    "# Plot the first training value.\n",
    "ax.plot(x_train[0], color=\"blue\")\n",
    "# Plot the first predicted outcome value.\n",
    "ax.plot(x_train_pred[0], color=\"orange\");"
   ]
  },
  {
   "cell_type": "markdown",
   "id": "91daf5ac",
   "metadata": {},
   "source": [
    "We can see from Figure 7 that the blue  line is displaying the first training values and the orange line is showing us the first predicted outcome. They seem pretty close that I am confident the training process is working well. The next step is to run the test data."
   ]
  },
  {
   "cell_type": "markdown",
   "id": "e0ab5d2a",
   "metadata": {},
   "source": [
    "We need to treat the test data in the same manner we did with the trained data. This means subtracting the mean and dividing by the standard deviation. Once this is done we can plot the the test values. "
   ]
  },
  {
   "cell_type": "code",
   "execution_count": 59,
   "id": "78b34627",
   "metadata": {},
   "outputs": [],
   "source": [
    "# Apply same operation to test data. \n",
    "# Subtract mean and divide by std for test values. \n",
    "df_test_value = (df_daily_jumpsup - train_mean) / train_std"
   ]
  },
  {
   "cell_type": "code",
   "execution_count": 80,
   "id": "06aa8b35",
   "metadata": {},
   "outputs": [
    {
     "data": {
      "image/png": "[encoded data removed]",
      "text/plain": [
       "<Figure size 864x432 with 1 Axes>"
      ]
     },
     "metadata": {
      "needs_background": "light"
     },
     "output_type": "display_data"
    }
   ],
   "source": [
    "# Plot the test values. \n",
    "fig, ax = plt.subplots(figsize=(12, 6))\n",
    "plt.title(\"Figure 8 - Test values\", size=16)\n",
    "\n",
    "# Pass in the test values. \n",
    "df_test_value.plot(legend=False, ax=ax);"
   ]
  },
  {
   "cell_type": "markdown",
   "id": "3112b9c9",
   "metadata": {},
   "source": [
    "So we know the test values should contain an anomaly. It looks like it does if you compare Figure 8 with the training values in Figure 3."
   ]
  },
  {
   "cell_type": "markdown",
   "id": "b9bf527b",
   "metadata": {},
   "source": [
    "<br>\n",
    "\n",
    "<h3 style=\"color: #001a79;\">Create window sequence for testing values</h3>"
   ]
  },
  {
   "cell_type": "markdown",
   "id": "fb04a0a2",
   "metadata": {},
   "source": [
    "Now we need to create the window sequence for the test valeus in the exact same way we did for the training values. "
   ]
  },
  {
   "cell_type": "code",
   "execution_count": 61,
   "id": "5061dec2",
   "metadata": {},
   "outputs": [
    {
     "data": {
      "text/plain": [
       "(3745, 288, 1)"
      ]
     },
     "execution_count": 61,
     "metadata": {},
     "output_type": "execute_result"
    }
   ],
   "source": [
    "# Create sequences from test values.\n",
    "x_test = windows(df_test_value.values)\n",
    "\n",
    "x_test.shape"
   ]
  },
  {
   "cell_type": "markdown",
   "id": "a9e8f1d6",
   "metadata": {},
   "source": [
    "<br>\n",
    "\n",
    "<h3 style=\"color: #001a79;\">Predict testing values loss</h3>"
   ]
  },
  {
   "cell_type": "markdown",
   "id": "54fc49af",
   "metadata": {},
   "source": [
    "We will also create the predicted outcome and the loss of that outcome. "
   ]
  },
  {
   "cell_type": "code",
   "execution_count": 62,
   "id": "5b4c1870",
   "metadata": {},
   "outputs": [
    {
     "name": "stdout",
     "output_type": "stream",
     "text": [
      "118/118 [==============================] - 3s 25ms/step\n"
     ]
    }
   ],
   "source": [
    "# Predict the testing outcome. \n",
    "x_test_pred = model.predict(x_test)"
   ]
  },
  {
   "cell_type": "code",
   "execution_count": 82,
   "id": "22b1420b",
   "metadata": {},
   "outputs": [
    {
     "data": {
      "text/plain": [
       "array([[0.12161028],\n",
       "       [0.12328488],\n",
       "       [0.12165018],\n",
       "       ...,\n",
       "       [0.12485419],\n",
       "       [0.12442955],\n",
       "       [0.12409814]])"
      ]
     },
     "execution_count": 82,
     "metadata": {},
     "output_type": "execute_result"
    }
   ],
   "source": [
    "# Get the loss of predicted testing outcome\n",
    "test_mae_loss = np.mean(np.abs(x_test_pred - x_test), axis=1)\n",
    "\n",
    "test_mae_loss"
   ]
  },
  {
   "cell_type": "code",
   "execution_count": 64,
   "id": "4f8ceea4",
   "metadata": {},
   "outputs": [
    {
     "data": {
      "text/plain": [
       "array([0.12161028, 0.12328488, 0.12165018, ..., 0.12485419, 0.12442955,\n",
       "       0.12409814])"
      ]
     },
     "execution_count": 64,
     "metadata": {},
     "output_type": "execute_result"
    }
   ],
   "source": [
    "# Reshape to make a row not a column\n",
    "test_mae_loss = test_mae_loss.reshape((-1))\n",
    "\n",
    "test_mae_loss"
   ]
  },
  {
   "cell_type": "code",
   "execution_count": 83,
   "id": "4151b0d5",
   "metadata": {},
   "outputs": [
    {
     "data": {
      "image/png": "[encoded data removed]",
      "text/plain": [
       "<Figure size 864x432 with 1 Axes>"
      ]
     },
     "metadata": {
      "needs_background": "light"
     },
     "output_type": "display_data"
    }
   ],
   "source": [
    "# Plot the predicted testing loss. \n",
    "fig, ax = plt.subplots(figsize=(12, 6))\n",
    "plt.title(\"Figure 9 - Predicted Testing Loss\", size=16)\n",
    "\n",
    "# Testing loss.\n",
    "ax.hist(test_mae_loss, bins=50)\n",
    "# Loss.\n",
    "ax.set_xlabel(\"test MAE loss\")\n",
    "# Samples.\n",
    "ax.set_ylabel(\"No of samples\");"
   ]
  },
  {
   "cell_type": "markdown",
   "id": "807b6b89",
   "metadata": {},
   "source": [
    "Interesting that the testing loss seems a lot less that the training loss did. "
   ]
  },
  {
   "cell_type": "markdown",
   "id": "db52501d",
   "metadata": {},
   "source": [
    "<br>\n",
    "\n",
    "<h3 style=\"color: #001a79;\">Detect the anomalies</h3>"
   ]
  },
  {
   "cell_type": "markdown",
   "id": "42bf6a60",
   "metadata": {},
   "source": [
    "The final step now to to see if an anomaly is detected. \n",
    "\n",
    "First step is to check if the predicted testing values loss is greater than the threshold which is the maximun loss of the predicted outcome. If this is true then it is an anomaly. "
   ]
  },
  {
   "cell_type": "code",
   "execution_count": 66,
   "id": "340d64c3",
   "metadata": {},
   "outputs": [
    {
     "data": {
      "text/plain": [
       "390"
      ]
     },
     "execution_count": 66,
     "metadata": {},
     "output_type": "execute_result"
    }
   ],
   "source": [
    "# Detect all the samples which are anomalies.\n",
    "anomalies = test_mae_loss > threshold\n",
    "\n",
    "# Number of anomalies.\n",
    "np.sum(anomalies)"
   ]
  },
  {
   "cell_type": "code",
   "execution_count": 67,
   "id": "cb1a1a9d",
   "metadata": {},
   "outputs": [],
   "source": [
    "# Data i is an anomaly if samples [(i - timesteps + 1) to (i)] are anomalies\n",
    "inds = []\n",
    "\n",
    "# For each anomaly in the testing values\n",
    "for i in range(window_size - 1, len(df_test_value) - window_size + 1):\n",
    "    # If all in the array are part of the anomalies list \n",
    "    if np.all(anomalies[i - window_size + 1 : i]):\n",
    "        # Then add to the list\n",
    "        inds.append(i)"
   ]
  },
  {
   "cell_type": "markdown",
   "id": "d74ac1dc",
   "metadata": {},
   "source": [
    "What we have done here is looped through testing values, detected any anomalies and appended them to a list. This is done so we can get a subset of the testing values to show any anomalies. "
   ]
  },
  {
   "cell_type": "code",
   "execution_count": 68,
   "id": "c654ffdc",
   "metadata": {},
   "outputs": [],
   "source": [
    "# Get subset of daily jumpsup if there are anomalies.\n",
    "df_subset = df_daily_jumpsup.iloc[inds]"
   ]
  },
  {
   "cell_type": "code",
   "execution_count": 84,
   "id": "319208b1",
   "metadata": {},
   "outputs": [
    {
     "data": {
      "image/png": "[encoded data removed]",
      "text/plain": [
       "<Figure size 864x432 with 1 Axes>"
      ]
     },
     "metadata": {
      "needs_background": "light"
     },
     "output_type": "display_data"
    }
   ],
   "source": [
    "# Plot the subset on top of the testing values.\n",
    "fig, ax = plt.subplots(figsize=(12, 6))\n",
    "plt.title(\"Figure 10 - Anomaly Detected\", size=16)\n",
    "\n",
    "# Testing values.\n",
    "df_daily_jumpsup.plot(legend=False, ax=ax)\n",
    "\n",
    "# Subset of anomalies\n",
    "df_subset.plot(legend=False, ax=ax, color=\"r\");"
   ]
  },
  {
   "cell_type": "markdown",
   "id": "c8fc3dc6",
   "metadata": {},
   "source": [
    "We can see here in Figure 10 that an anomaly was detected within the testing dataset. This can be seen in red. \n",
    "\n",
    "<br>\n",
    "\n",
    "The reason this was detected is because we have trained the training dataset values. Then we trained the model by giving the trained values as both the input and the output. This means that the model has been trained to give the same output as input. \n",
    "\n",
    "<br>\n",
    "\n",
    "Therfore, when the model gets an input for an anomaly, the idea is that it should detect a different output. And that output should be far enough away from the prediction that it raises a flag and is labelled an anomaly. This is what we are seeing in Figure 10. "
   ]
  },
  {
   "cell_type": "markdown",
   "id": "fe302faa",
   "metadata": {},
   "source": [
    "<h2 style=\"color: #001a79;\">Conclusion</h2>\n",
    "\n",
    "<hr style=\"border-top: 1px solid #001a79;\" />"
   ]
  },
  {
   "cell_type": "markdown",
   "id": "f943a037",
   "metadata": {},
   "source": [
    "To do:\n",
    "\n",
    "Include a conclusion section where you suggest improvements you\n",
    "could make to the analysis in the notebook.\n"
   ]
  },
  {
   "cell_type": "markdown",
   "id": "75e0dcc9",
   "metadata": {},
   "source": []
  },
  {
   "cell_type": "code",
   "execution_count": null,
   "id": "e0527b9e",
   "metadata": {},
   "outputs": [],
   "source": []
  },
  {
   "cell_type": "code",
   "execution_count": null,
   "id": "e6641f34",
   "metadata": {},
   "outputs": [],
   "source": []
  },
  {
   "cell_type": "markdown",
   "id": "537e63d0",
   "metadata": {},
   "source": [
    "RE FACTURING THE CODE. TAKEING SOMEONE ELSES CODE AND MAKING IT OUT OWN. CLEANING IT UP. MAKING IT/ EXPLAINING WHAT IT DOES. \n",
    "\n",
    "TRYING TO WRITE A NARRATIVE AROUND IT. "
   ]
  },
  {
   "cell_type": "markdown",
   "id": "b3e0fa7c",
   "metadata": {},
   "source": [
    "<hr style=\"border-top: 1px solid #001a79;\" />\n",
    "\n",
    "<h2 style=\"color: #001a79;\">End</h2>"
   ]
  }
 ],
 "metadata": {
  "kernelspec": {
   "display_name": "Python 3 (ipykernel)",
   "language": "python",
   "name": "python3"
  },
  "language_info": {
   "codemirror_mode": {
    "name": "ipython",
    "version": 3
   },
   "file_extension": ".py",
   "mimetype": "text/x-python",
   "name": "python",
   "nbconvert_exporter": "python",
   "pygments_lexer": "ipython3",
   "version": "3.9.12"
  }
 },
 "nbformat": 4,
 "nbformat_minor": 5
}
