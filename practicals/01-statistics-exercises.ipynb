{
 "cells": [
  {
   "cell_type": "markdown",
   "id": "dfa3d5e0",
   "metadata": {},
   "source": [
    "<h1 style=\"color: #001a79;\">Weekly Exercises</h1>\n",
    "\n",
    "<hr style=\"border-top: 1px solid #001a79;\" />"
   ]
  },
  {
   "cell_type": "markdown",
   "id": "9bde4475",
   "metadata": {},
   "source": [
    "<h3 style=\"color: #001a79;\">Exercise 1.1</h3>\n",
    "\n",
    "<hr style=\"border-top: 1px solid #001a79;\" />\n",
    "\n",
    "The above gives about a 1.5% chance of randomly selecting the correct cups. Calculate the minimum number of cups of tea required to ensure the probability of randomly selecting the correct cups is less than or equal to 1%."
   ]
  },
  {
   "cell_type": "markdown",
   "id": "f55843bb",
   "metadata": {},
   "source": [
    "The following is adapted from https://stackoverflow.com/a/4941932"
   ]
  },
  {
   "cell_type": "markdown",
   "id": "681cc308",
   "metadata": {},
   "source": [
    "Python version 3.8 includes a new method which [geeksforgeeks](https://www.geeksforgeeks.org/python-math-comb-method/) explains can be used to return the number of ways to choose k items from n items. This method works without repetition and without order.\n",
    "<br><br>\n",
    "*Syntax: math.comb(n, k)*"
   ]
  },
  {
   "cell_type": "code",
   "execution_count": 1,
   "id": "ce922631",
   "metadata": {},
   "outputs": [],
   "source": [
    "# Math module.\n",
    "import math"
   ]
  },
  {
   "cell_type": "code",
   "execution_count": 2,
   "id": "6c222154",
   "metadata": {},
   "outputs": [
    {
     "data": {
      "text/plain": [
       "70"
      ]
     },
     "execution_count": 2,
     "metadata": {},
     "output_type": "execute_result"
    }
   ],
   "source": [
    "# Number of ways of selecting 4 cups from 8.\n",
    "math.comb(8, 4)"
   ]
  },
  {
   "cell_type": "code",
   "execution_count": 3,
   "id": "e40ccaa3",
   "metadata": {},
   "outputs": [
    {
     "data": {
      "text/plain": [
       "252"
      ]
     },
     "execution_count": 3,
     "metadata": {},
     "output_type": "execute_result"
    }
   ],
   "source": [
    "# Number of ways of selecting 5 cups form 10.\n",
    "math.comb(10, 5)"
   ]
  },
  {
   "cell_type": "code",
   "execution_count": 4,
   "id": "15340230",
   "metadata": {},
   "outputs": [
    {
     "data": {
      "text/plain": [
       "0.003968253968253968"
      ]
     },
     "execution_count": 4,
     "metadata": {},
     "output_type": "execute_result"
    }
   ],
   "source": [
    "# Probability of randomly selecting correct 5 cups is:\n",
    "1.0 / math.comb(10, 5)"
   ]
  },
  {
   "cell_type": "markdown",
   "id": "44e30fa2",
   "metadata": {},
   "source": [
    "So, if the experiment was done with 10 cups total, five with milk in first and five with tea in first, then the chance of  randomly selecting correctly is much less than 1%."
   ]
  },
  {
   "cell_type": "markdown",
   "id": "dacbae2a",
   "metadata": {},
   "source": [
    "We could design the experiment to have 9 cups in total, with 4 with milk in first and 5 with tea in first - or vice versa. "
   ]
  },
  {
   "cell_type": "code",
   "execution_count": 5,
   "id": "f2ba2749",
   "metadata": {},
   "outputs": [
    {
     "data": {
      "text/plain": [
       "126"
      ]
     },
     "execution_count": 5,
     "metadata": {},
     "output_type": "execute_result"
    }
   ],
   "source": [
    "# Number of ways of selecting 4 cups from 9. \n",
    "math.comb(9, 4)"
   ]
  },
  {
   "cell_type": "code",
   "execution_count": 6,
   "id": "e8931672",
   "metadata": {},
   "outputs": [
    {
     "data": {
      "text/plain": [
       "126"
      ]
     },
     "execution_count": 6,
     "metadata": {},
     "output_type": "execute_result"
    }
   ],
   "source": [
    "# Number of ways of selecting 5 cups from 9:\n",
    "math.comb(9, 5)"
   ]
  },
  {
   "cell_type": "markdown",
   "id": "bd048bab",
   "metadata": {},
   "source": [
    "Both have the same number of ways of selecting cups. This is because the two groups of choices remain the same, just in a different order. Therefore, the outcome will have the same number of ways of selecting cups regardless of the which group selects first. "
   ]
  },
  {
   "cell_type": "code",
   "execution_count": 7,
   "id": "736a0ef4",
   "metadata": {},
   "outputs": [
    {
     "data": {
      "text/plain": [
       "0.007936507936507936"
      ]
     },
     "execution_count": 7,
     "metadata": {},
     "output_type": "execute_result"
    }
   ],
   "source": [
    "# The probability is then:\n",
    "1.0 / math.comb(9, 4)"
   ]
  },
  {
   "cell_type": "markdown",
   "id": "f3b92cdc",
   "metadata": {},
   "source": [
    "This is less than 1% too."
   ]
  },
  {
   "cell_type": "markdown",
   "id": "8bf08dc4",
   "metadata": {},
   "source": [
    "<h3 style=\"color: #001a79;\">Exercise 1.2</h3>\n",
    "\n",
    "<hr style=\"border-top: 1px solid #001a79;\" />\n",
    "\n",
    "*Bonus:* How many would be required if you were to let the taster get one cup wrong while maintaining the 1% threshold?"
   ]
  },
  {
   "cell_type": "code",
   "execution_count": 8,
   "id": "6d39e8be",
   "metadata": {},
   "outputs": [],
   "source": [
    "# Don't get too worried about this one.\n",
    "# Come back to this at a later stage. "
   ]
  },
  {
   "cell_type": "code",
   "execution_count": null,
   "id": "f3cc9c23",
   "metadata": {},
   "outputs": [],
   "source": []
  },
  {
   "cell_type": "markdown",
   "id": "4589de55",
   "metadata": {},
   "source": [
    "<h3 style=\"color: #001a79;\">Exercise 1.3</h3>\n",
    "<hr style=\"border-top: 1px solid #001a79;\" />\n",
    "\n",
    "Use <a href=\"https://docs.scipy.org/doc/scipy/reference/generated/scipy.stats.fisher_exact.html\" style=\"color: #ff791e\">scipy's version of Fisher's exact test</a> to simulate the Lady Tasting Tea problem.1"
   ]
  },
  {
   "cell_type": "code",
   "execution_count": 9,
   "id": "709b59b8",
   "metadata": {},
   "outputs": [],
   "source": [
    "# Statistical methods. \n",
    "import scipy.stats as ss"
   ]
  },
  {
   "cell_type": "code",
   "execution_count": 10,
   "id": "f3a4ac03",
   "metadata": {},
   "outputs": [
    {
     "data": {
      "text/plain": [
       "<function scipy.stats.stats.fisher_exact(table, alternative='two-sided')>"
      ]
     },
     "execution_count": 10,
     "metadata": {},
     "output_type": "execute_result"
    }
   ],
   "source": [
    "# We can see the syntax of this function takes in a two sided table.\n",
    "ss.fisher_exact"
   ]
  },
  {
   "cell_type": "markdown",
   "id": "a2cf0210",
   "metadata": {},
   "source": [
    "The desired outcome is:\n",
    "<br>\n",
    "\n",
    "*0.014285714285714285*"
   ]
  },
  {
   "cell_type": "code",
   "execution_count": 11,
   "id": "6bf30935",
   "metadata": {},
   "outputs": [
    {
     "data": {
      "text/plain": [
       "(inf, 0.028571428571428536)"
      ]
     },
     "execution_count": 11,
     "metadata": {},
     "output_type": "execute_result"
    }
   ],
   "source": [
    "ss.fisher_exact([[4, 0], [0, 4]])"
   ]
  },
  {
   "cell_type": "code",
   "execution_count": 12,
   "id": "2d57e5b5",
   "metadata": {},
   "outputs": [
    {
     "data": {
      "text/plain": [
       "0.02857142857142857"
      ]
     },
     "execution_count": 12,
     "metadata": {},
     "output_type": "execute_result"
    }
   ],
   "source": [
    "0.014285714285714285 * 2"
   ]
  },
  {
   "cell_type": "code",
   "execution_count": 13,
   "id": "1d18b4c7",
   "metadata": {},
   "outputs": [
    {
     "data": {
      "text/plain": [
       "0.014285714285714268"
      ]
     },
     "execution_count": 13,
     "metadata": {},
     "output_type": "execute_result"
    }
   ],
   "source": [
    "from scipy.stats import fisher_exact\n",
    "table = [[4, 0], [0, 4]]\n",
    "oddsr, p = fisher_exact(table, alternative='greater')\n",
    "p"
   ]
  },
  {
   "cell_type": "markdown",
   "id": "e9bec424",
   "metadata": {},
   "source": [
    "This piece of code has given the exact answer by using the parameter *alternative='greater'*. This is an optional parameter that gives odds for the probability being greater than one. "
   ]
  },
  {
   "cell_type": "markdown",
   "id": "0baeec01",
   "metadata": {},
   "source": [
    "In other words, the fisher exact method is used to determine if there is a significant association between two variables. The variables are either independent or they're not. What this code means is there is less than 1% chance of the probabilty being greater than 1. "
   ]
  },
  {
   "cell_type": "markdown",
   "id": "138f4842",
   "metadata": {},
   "source": [
    "I found two interesting blog posts which explains the fisher_exact method which I found helpful to understand the statistical aspect of the experiment. See links below. \n",
    "<br>\n",
    "https://towardsdatascience.com/fishers-exact-test-from-scratch-with-python-2b907f29e593\n",
    "<br>\n",
    "https://www.statology.org/fishers-exact-test/#:~:text=Fisher%27s%20Exact%20Test%20is%20used,table%20is%20less%20than%205"
   ]
  },
  {
   "cell_type": "markdown",
   "id": "5080231a",
   "metadata": {},
   "source": [
    "<h3 style=\"color: #001a79;\">Exercise 1.4</h3>\n",
    "<hr style=\"border-top: 1px solid #001a79;\" />\n",
    "\n",
    "Take the code from the <a href=\"https://docs.scipy.org/doc/scipy/reference/generated/scipy.stats.ttest_ind.html\" style=\"color: #ff791e\">Examples section of the scipy stats documentation for independent samples t-tests</a>, add it to your own notebook and add explain how it works using MarkDown cells and code comments. Improve it in any way you think it could be improved."
   ]
  },
  {
   "cell_type": "markdown",
   "id": "1653cf00",
   "metadata": {},
   "source": [
    "explain in own words. maybe use plots to describe what it all means. "
   ]
  },
  {
   "cell_type": "code",
   "execution_count": 22,
   "id": "831d8d5c",
   "metadata": {},
   "outputs": [],
   "source": [
    "import numpy as np\n",
    "from scipy import stats\n",
    "rng = np.random.default_rng()"
   ]
  },
  {
   "cell_type": "code",
   "execution_count": 23,
   "id": "18c15d1e",
   "metadata": {},
   "outputs": [
    {
     "data": {
      "text/plain": [
       "Ttest_indResult(statistic=0.7295020930735315, pvalue=0.4658657626522208)"
      ]
     },
     "execution_count": 23,
     "metadata": {},
     "output_type": "execute_result"
    }
   ],
   "source": [
    "rvs1 = stats.norm.rvs(loc=5, scale=10, size=500, random_state=rng)\n",
    "rvs2 = stats.norm.rvs(loc=5, scale=10, size=500, random_state=rng)\n",
    "stats.ttest_ind(rvs1, rvs2)\n",
    "\n",
    "stats.ttest_ind(rvs1, rvs2, equal_var=False)\n"
   ]
  },
  {
   "cell_type": "code",
   "execution_count": 24,
   "id": "597faf4e",
   "metadata": {},
   "outputs": [
    {
     "data": {
      "text/plain": [
       "Ttest_indResult(statistic=1.4176443590819954, pvalue=0.1567243757988836)"
      ]
     },
     "execution_count": 24,
     "metadata": {},
     "output_type": "execute_result"
    }
   ],
   "source": [
    "rvs3 = stats.norm.rvs(loc=5, scale=20, size=500, random_state=rng)\n",
    "stats.ttest_ind(rvs1, rvs3)\n",
    "\n",
    "stats.ttest_ind(rvs1, rvs3, equal_var=False)\n"
   ]
  },
  {
   "cell_type": "code",
   "execution_count": 25,
   "id": "51373218",
   "metadata": {},
   "outputs": [
    {
     "data": {
      "text/plain": [
       "Ttest_indResult(statistic=-0.24847790224469923, pvalue=0.8042306909492457)"
      ]
     },
     "execution_count": 25,
     "metadata": {},
     "output_type": "execute_result"
    }
   ],
   "source": [
    "rvs4 = stats.norm.rvs(loc=5, scale=20, size=100, random_state=rng)\n",
    "stats.ttest_ind(rvs1, rvs4)\n",
    "\n",
    "stats.ttest_ind(rvs1, rvs4, equal_var=False)\n"
   ]
  },
  {
   "cell_type": "code",
   "execution_count": 26,
   "id": "e5e197b8",
   "metadata": {},
   "outputs": [
    {
     "data": {
      "text/plain": [
       "Ttest_indResult(statistic=-2.382026895660881, pvalue=0.01895954719995073)"
      ]
     },
     "execution_count": 26,
     "metadata": {},
     "output_type": "execute_result"
    }
   ],
   "source": [
    "rvs5 = stats.norm.rvs(loc=8, scale=20, size=100, random_state=rng)\n",
    "stats.ttest_ind(rvs1, rvs5)\n",
    "\n",
    "stats.ttest_ind(rvs1, rvs5, equal_var=False)\n"
   ]
  },
  {
   "cell_type": "code",
   "execution_count": 27,
   "id": "27f7bcb2",
   "metadata": {},
   "outputs": [
    {
     "data": {
      "text/plain": [
       "Ttest_indResult(statistic=-3.7042907366279585, pvalue=0.0001)"
      ]
     },
     "execution_count": 27,
     "metadata": {},
     "output_type": "execute_result"
    }
   ],
   "source": [
    "stats.ttest_ind(rvs1, rvs5, permutations=10000, random_state=rng)"
   ]
  },
  {
   "cell_type": "code",
   "execution_count": 28,
   "id": "8a957228",
   "metadata": {},
   "outputs": [
    {
     "data": {
      "text/plain": [
       "Ttest_indResult(statistic=3.4463884028073513, pvalue=0.01369338726499547)"
      ]
     },
     "execution_count": 28,
     "metadata": {},
     "output_type": "execute_result"
    }
   ],
   "source": [
    "a = (56, 128.6, 12, 123.8, 64.34, 78, 763.3)\n",
    "b = (1.1, 2.9, 4.2)\n",
    "\n",
    "stats.ttest_ind(a, b, trim=.2)"
   ]
  },
  {
   "cell_type": "code",
   "execution_count": null,
   "id": "368fd064",
   "metadata": {},
   "outputs": [],
   "source": []
  },
  {
   "cell_type": "code",
   "execution_count": null,
   "id": "6173e73b",
   "metadata": {},
   "outputs": [],
   "source": []
  },
  {
   "cell_type": "code",
   "execution_count": null,
   "id": "2d4f2e78",
   "metadata": {},
   "outputs": [],
   "source": []
  },
  {
   "cell_type": "code",
   "execution_count": null,
   "id": "00424c6a",
   "metadata": {},
   "outputs": [],
   "source": []
  }
 ],
 "metadata": {
  "kernelspec": {
   "display_name": "Python 3 (ipykernel)",
   "language": "python",
   "name": "python3"
  },
  "language_info": {
   "codemirror_mode": {
    "name": "ipython",
    "version": 3
   },
   "file_extension": ".py",
   "mimetype": "text/x-python",
   "name": "python",
   "nbconvert_exporter": "python",
   "pygments_lexer": "ipython3",
   "version": "3.9.12"
  }
 },
 "nbformat": 4,
 "nbformat_minor": 5
}
