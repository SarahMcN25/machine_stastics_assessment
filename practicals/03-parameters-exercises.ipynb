{
 "cells": [
  {
   "cell_type": "markdown",
   "id": "070769d9",
   "metadata": {},
   "source": [
    "<h1 style=\"color: #001a79;\">Weekly Exercises</h1>\n",
    "\n",
    "<hr style=\"border-top: 1px solid #001a79;\" />"
   ]
  },
  {
   "cell_type": "markdown",
   "id": "918780c8",
   "metadata": {},
   "source": [
    "<h3 style=\"color: #001a79;\">Exercise 3.1</h3>\n",
    "\n",
    "<hr style=\"border-top: 1px solid #001a79;\" />\n",
    "\n",
    "__Task:__\n",
    "<br>\n",
    "\n",
    "Use numpy's polyfit to fit polynomials to the following two data sets.\n",
    "\n",
    "Data Set 1:\n",
    "```python\n",
    "x = [0.0, 1.0, 2.0, 3.0, 4.0, 5.0, 6.0, 7.0, 8.0, 9.0, 10.0, 11.0, 12.0, 13.0, 14.0, 15.0]\n",
    "y = [1.3, 1.2, 9.4, 27.3, 63.1, 126.5, 217.3, 341.5, 512.8, 729.3, 1001.8, 1332.7, 1728.9, 2198.8, 2743.7, 3376.7]\n",
    "```\n",
    "\n",
    "Data Set 2:\n",
    "```python\n",
    "x = [0.0, 1.0, 2.0, 3.0, 4.0, 5.0, 6.0, 7.0, 8.0, 9.0, 10.0, 11.0, 12.0]\n",
    "y = [5.7, 16.6, 58.0, 278.9, 1069.3, 3181.4, 7844.3, 16883.9, 32854.9, 59144.2, 100106.7, 161166.3, 248958.6]\n",
    "```"
   ]
  },
  {
   "cell_type": "markdown",
   "id": "4916bda2",
   "metadata": {},
   "source": [
    "Official documentation: https://numpy.org/doc/stable/reference/generated/numpy.polyfit.html"
   ]
  },
  {
   "cell_type": "markdown",
   "id": "d245fcd5",
   "metadata": {},
   "source": [
    "The following code was adapted from: https://github.com/ianmcloughlin/2223-S1-machine-learn-stats/blob/main/notebooks/03-parameters.ipynb"
   ]
  },
  {
   "cell_type": "code",
   "execution_count": 27,
   "id": "3cedc790",
   "metadata": {},
   "outputs": [],
   "source": [
    "# For numerical arrrays.\n",
    "import numpy as np\n",
    "\n",
    "# For data visualization. \n",
    "import matplotlib.pyplot as plt"
   ]
  },
  {
   "cell_type": "markdown",
   "id": "1a7c6c8e",
   "metadata": {},
   "source": [
    "<br>\n",
    "\n",
    "The numpy polyfit function takes 3 inputs - x, y and the polynomial degree - and it finds the best fitting curve for a given set of points by minimizing the sum of squares. \n",
    "\n",
    "Good article with explainations found here: https://www.pythonpool.com/numpy-polyfit/#:~:text=The%20function%20NumPy.,Y%2C%20and%20the%20polynomial%20degree\n",
    "\n",
    "<br>\n",
    "\n",
    "The goal is to take each of the two data sets and play around with the polynomial degree to see which degree would give the best fitting line. \n",
    "\n",
    "<br>"
   ]
  },
  {
   "cell_type": "markdown",
   "id": "21fb386f",
   "metadata": {},
   "source": [
    "<h3 style=\"color: #001a79;\">Data Set 1</h3>"
   ]
  },
  {
   "cell_type": "markdown",
   "id": "8c76a338",
   "metadata": {},
   "source": [
    "IE WHAT IS THE BEST DEGREE TO PASS IN TO POLYFIT. \n",
    "\n",
    "WHAT DEGREE OF A POLYNOMINAL IS GOOD FOR A DATA SET??????\n",
    "\n",
    "GENERAL FEELING THAT LOWER IS BETTER. ITS LESS COMPLEX. BETTER OFF WITH LOWER DEGREE IF YOU CAN GET AWAY WITH IT. \n",
    "\n",
    "MIGHT FIT MORE WITH THE NOISE WHICH IS THE DOWN SIDE. "
   ]
  },
  {
   "cell_type": "code",
   "execution_count": 48,
   "id": "1c362ebe",
   "metadata": {},
   "outputs": [],
   "source": [
    "# DATA SET #1\n",
    "x = np.array([0.0, 1.0, 2.0, 3.0, 4.0, 5.0, 6.0, 7.0, 8.0, 9.0, 10.0, 11.0, 12.0, 13.0, 14.0, 15.0])\n",
    "y = np.array([1.3, 1.2, 9.4, 27.3, 63.1, 126.5, 217.3, 341.5, 512.8, 729.3, 1001.8, 1332.7, 1728.9, 2198.8, 2743.7, 3376.7])"
   ]
  },
  {
   "cell_type": "markdown",
   "id": "69e99acf",
   "metadata": {},
   "source": [
    "<h5 style=\"color: #001a79;\">Polynominal Degree of 1</h5>"
   ]
  },
  {
   "cell_type": "markdown",
   "id": "3b982b8e",
   "metadata": {},
   "source": [
    "First I am going to pass in a degree of 1. It's important to note that 1 is the lowest degree which can be passed into this funciton. I was curious so I trialed it using zero and a negative number. It didn't work so I've gone with 1!"
   ]
  },
  {
   "cell_type": "code",
   "execution_count": 49,
   "id": "1ed01515",
   "metadata": {},
   "outputs": [
    {
     "data": {
      "text/plain": [
       "array([ 206.84161765, -650.54338235])"
      ]
     },
     "execution_count": 49,
     "metadata": {},
     "output_type": "execute_result"
    }
   ],
   "source": [
    "# Use x and y to try to find the original parameters.\n",
    "params = np.polyfit(x, y, 1)\n",
    "params"
   ]
  },
  {
   "cell_type": "code",
   "execution_count": 50,
   "id": "9efa0e09",
   "metadata": {},
   "outputs": [
    {
     "data": {
      "image/png": "[encoded data removed]",
      "text/plain": [
       "<Figure size 864x432 with 1 Axes>"
      ]
     },
     "metadata": {
      "needs_background": "light"
     },
     "output_type": "display_data"
    }
   ],
   "source": [
    "# Create a plot.\n",
    "fig, ax = plt.subplots(figsize=(12,6))\n",
    "\n",
    "# Plot x vs y.\n",
    "ax.plot(x, y, 'k.')\n",
    "\n",
    "# Plot x vs parameters on x.\n",
    "ax.plot(x, params[0] * x + params[1], 'b-')\n",
    "\n",
    "plt.title(\"Figure 3.1.1\", size=16)\n",
    "plt.show()"
   ]
  },
  {
   "cell_type": "markdown",
   "id": "c6593454",
   "metadata": {},
   "source": [
    "Okay so we can see here in Figure 3.1.1 that the white noise has a curve to it and there is a straight line showing linear regression which is close enough but not very convincing that it would be the best fitting line for this data set. Therefore, I am ruling out a degree of 1 as a parameter."
   ]
  },
  {
   "cell_type": "markdown",
   "id": "2a1a32e5",
   "metadata": {},
   "source": [
    "<h5 style=\"color: #001a79;\">Polynominal Degree of 2</h5>"
   ]
  },
  {
   "cell_type": "code",
   "execution_count": 51,
   "id": "ef8e2cce",
   "metadata": {},
   "outputs": [
    {
     "data": {
      "text/plain": [
       "array([  22.51017157, -130.81095588,  137.31262255])"
      ]
     },
     "execution_count": 51,
     "metadata": {},
     "output_type": "execute_result"
    }
   ],
   "source": [
    "# Use x and y to try to find the original parameters.\n",
    "params = np.polyfit(x, y, 2)\n",
    "params"
   ]
  },
  {
   "cell_type": "markdown",
   "id": "abca8a77",
   "metadata": {},
   "source": [
    "Numpy polyval is a useful method which returns the polynominal of specific values. This is useful when working with arrays of multiple values which as we can see from the output of the previous cell we now have 3 values. \n",
    "\n",
    "We could also do this manually which I have included in comments below, however, to allow for simplicity I am making use of this convienent method.\n",
    "\n",
    "Offical documentation can be found here: https://numpy.org/doc/stable/reference/generated/numpy.polyval.html"
   ]
  },
  {
   "cell_type": "code",
   "execution_count": 52,
   "id": "913b2185",
   "metadata": {},
   "outputs": [
    {
     "data": {
      "image/png": "[encoded data removed]",
      "text/plain": [
       "<Figure size 864x432 with 1 Axes>"
      ]
     },
     "metadata": {
      "needs_background": "light"
     },
     "output_type": "display_data"
    }
   ],
   "source": [
    "# Create a plot.\n",
    "fig, ax = plt.subplots(figsize=(12,6))\n",
    "\n",
    "# Plot x vs y.\n",
    "ax.plot(x, y, 'k.')\n",
    "\n",
    "# Plot x vs parameters on x.\n",
    "#ax.plot(x, params[0] * x**2 + params[1] * x + params[2], 'b-')\n",
    "ax.plot(x, np.polyval(params, x), 'b-')\n",
    "\n",
    "plt.title(\"Figure 3.1.2\", size=16)\n",
    "plt.show()"
   ]
  },
  {
   "cell_type": "markdown",
   "id": "0c2bd88c",
   "metadata": {},
   "source": [
    "Okay so Figure 3.1.2 is far more convincing that than 3.1.1. We can see a quadratic polynominal line which is very close to the white noise meeting at various instances. A degree of 2 is definately a better choice than a degree of 1. \n",
    "\n",
    "I wonder if another degree up would produce even better results? "
   ]
  },
  {
   "cell_type": "markdown",
   "id": "e4f896fe",
   "metadata": {},
   "source": [
    "<h5 style=\"color: #001a79;\">Polynominal Degree of 3</h5>"
   ]
  },
  {
   "cell_type": "code",
   "execution_count": 53,
   "id": "b7439aa9",
   "metadata": {},
   "outputs": [
    {
     "data": {
      "text/plain": [
       "array([ 0.99699366,  0.07781416, -0.50388419,  1.22298762])"
      ]
     },
     "execution_count": 53,
     "metadata": {},
     "output_type": "execute_result"
    }
   ],
   "source": [
    "# Use x and y to try to find the original parameters.\n",
    "params = np.polyfit(x, y, 3)\n",
    "params"
   ]
  },
  {
   "cell_type": "code",
   "execution_count": 54,
   "id": "8c639317",
   "metadata": {},
   "outputs": [
    {
     "data": {
      "image/png": "[encoded data removed]",
      "text/plain": [
       "<Figure size 864x432 with 1 Axes>"
      ]
     },
     "metadata": {
      "needs_background": "light"
     },
     "output_type": "display_data"
    }
   ],
   "source": [
    "# Create a plot.\n",
    "fig, ax = plt.subplots(figsize=(12,6))\n",
    "\n",
    "# Plot x vs y.\n",
    "ax.plot(x, y, 'k.')\n",
    "\n",
    "# Plot x vs parameters on x.\n",
    "ax.plot(x, np.polyval(params, x), 'b-')\n",
    "\n",
    "plt.title(\"Figure 3.1.3\", size=16)\n",
    "plt.show()"
   ]
  },
  {
   "cell_type": "markdown",
   "id": "3f3df2bd",
   "metadata": {},
   "source": [
    "A clear improvement in Figure 3.1.3. The a cubic polynomial line is meeting the noise at almost every point. However, I am wondering if the noise is beginning to interfere with the polynominal data?"
   ]
  },
  {
   "cell_type": "markdown",
   "id": "6ebaae13",
   "metadata": {},
   "source": [
    "<h5 style=\"color: #001a79;\">Polynominal Degree of 9</h5>"
   ]
  },
  {
   "cell_type": "markdown",
   "id": "b2751fb3",
   "metadata": {},
   "source": [
    "I am testing my theory here using a degree of 9."
   ]
  },
  {
   "cell_type": "code",
   "execution_count": 60,
   "id": "7090ee10",
   "metadata": {},
   "outputs": [
    {
     "data": {
      "text/plain": [
       "array([-6.83370168e-07,  4.72646987e-05, -1.35534810e-03,  2.08874383e-02,\n",
       "       -1.87604053e-01,  9.96148925e-01, -2.02376342e+00,  4.78430908e+00,\n",
       "       -3.28945161e+00,  1.24286075e+00])"
      ]
     },
     "execution_count": 60,
     "metadata": {},
     "output_type": "execute_result"
    }
   ],
   "source": [
    "# Use x and y to try to find the original parameters.\n",
    "params = np.polyfit(x, y, 9)\n",
    "params"
   ]
  },
  {
   "cell_type": "code",
   "execution_count": 61,
   "id": "7c48f6b2",
   "metadata": {},
   "outputs": [
    {
     "data": {
      "image/png": "[encoded data removed]",
      "text/plain": [
       "<Figure size 864x432 with 1 Axes>"
      ]
     },
     "metadata": {
      "needs_background": "light"
     },
     "output_type": "display_data"
    }
   ],
   "source": [
    "# Create a plot.\n",
    "fig, ax = plt.subplots(figsize=(12,6))\n",
    "\n",
    "# Plot x vs y.\n",
    "ax.plot(x, y, 'k.')\n",
    "\n",
    "# Plot x vs parameters on x.\n",
    "ax.plot(x, np.polyval(params, x), 'b-')\n",
    "\n",
    "plt.title(\"Figure 3.1.4\", size=16)\n",
    "plt.show()"
   ]
  },
  {
   "cell_type": "markdown",
   "id": "7514c1c0",
   "metadata": {},
   "source": [
    "Okay so using a degree of 9 appears to give a similar fit to when I used a degree of 3. I am worried that the white noise is impacting my results. The line fits perfectly but is it too perfect? Is it realistic? "
   ]
  },
  {
   "cell_type": "markdown",
   "id": "c0a0373c",
   "metadata": {},
   "source": [
    "<h4 style=\"color: #001a79;\">Conclusion</h4>\n",
    "\n"
   ]
  },
  {
   "cell_type": "markdown",
   "id": "ac112c07",
   "metadata": {},
   "source": [
    "For Data Set 1 I believe using a polynominal degree of 2 or 3 is best. I would go with a degree of 3. It met the noise on almost every point giving us the best fit line for this data set. I tried it with a degree of 9 which appeared to also give a best fit line which leads me to believe that the higher the degree the better the fit. However, I have concerns which were confirmed by a Wikipedia article found here: https://en.wikipedia.org/wiki/Curve_fitting\n",
    "\n",
    "This article suggests that a higher degree is undesirable as an exact match might not exist and you run the risk of distorting the data points. Therefore, using a lower degree would is a preferred option to get the best fitting line of a data set. \n",
    "\n",
    "<br>\n",
    "\n",
    "<hr style=\"border-top: 1px solid #001a79;\" />\n",
    "\n",
    "<br>"
   ]
  },
  {
   "cell_type": "markdown",
   "id": "ec27bbd7",
   "metadata": {},
   "source": [
    "<h3 style=\"color: #001a79;\">Data Set 2</h3>"
   ]
  },
  {
   "cell_type": "code",
   "execution_count": 9,
   "id": "12e2ac29",
   "metadata": {},
   "outputs": [],
   "source": [
    "# DATA SET #2\n",
    "x = np.array([0.0, 1.0, 2.0, 3.0, 4.0, 5.0, 6.0, 7.0, 8.0, 9.0, 10.0, 11.0, 12.0])\n",
    "y = np.array([5.7, 16.6, 58.0, 278.9, 1069.3, 3181.4, 7844.3, 16883.9, 32854.9, 59144.2, 100106.7, 161166.3, 248958.6])"
   ]
  },
  {
   "cell_type": "code",
   "execution_count": 10,
   "id": "f67f1e1a",
   "metadata": {},
   "outputs": [
    {
     "data": {
      "text/plain": [
       "array([ 16228.18846154, -48786.91538462])"
      ]
     },
     "execution_count": 10,
     "metadata": {},
     "output_type": "execute_result"
    }
   ],
   "source": [
    "# Use x and y to try to find the original parameters.\n",
    "params = np.polyfit(x, y, 1)\n",
    "params"
   ]
  },
  {
   "cell_type": "code",
   "execution_count": 11,
   "id": "4f855336",
   "metadata": {},
   "outputs": [
    {
     "data": {
      "text/plain": [
       "[<matplotlib.lines.Line2D at 0x2776caa1b20>]"
      ]
     },
     "execution_count": 11,
     "metadata": {},
     "output_type": "execute_result"
    },
    {
     "data": {
      "image/png": "[encoded data removed]",
      "text/plain": [
       "<Figure size 864x432 with 1 Axes>"
      ]
     },
     "metadata": {
      "needs_background": "light"
     },
     "output_type": "display_data"
    }
   ],
   "source": [
    "# Create a plot.\n",
    "fig, ax = plt.subplots(figsize=(12,6))\n",
    "\n",
    "# Plot x vs y.\n",
    "ax.plot(x, y, 'k.')\n",
    "\n",
    "# Plot x vs parameters on x.\n",
    "ax.plot(x, params[0] * x + params[1], 'b-')"
   ]
  },
  {
   "cell_type": "markdown",
   "id": "9ed50cc6",
   "metadata": {},
   "source": [
    "Again slight curve but not a hundred miles from noise. "
   ]
  },
  {
   "cell_type": "markdown",
   "id": "9eba9f3c",
   "metadata": {},
   "source": [
    "<br>\n",
    "\n",
    "Now lets change the parameter. \n",
    "\n",
    "<br>"
   ]
  },
  {
   "cell_type": "code",
   "execution_count": 12,
   "id": "a6fe571a",
   "metadata": {},
   "outputs": [
    {
     "data": {
      "text/plain": [
       "array([  3218.5461039 , -22394.36478521,  22021.0989011 ])"
      ]
     },
     "execution_count": 12,
     "metadata": {},
     "output_type": "execute_result"
    }
   ],
   "source": [
    "# Use x and y to try to find the original parameters.\n",
    "params = np.polyfit(x, y, 2)\n",
    "params"
   ]
  },
  {
   "cell_type": "code",
   "execution_count": 13,
   "id": "49f3f4c9",
   "metadata": {},
   "outputs": [
    {
     "data": {
      "text/plain": [
       "[<matplotlib.lines.Line2D at 0x2776cd3ed60>]"
      ]
     },
     "execution_count": 13,
     "metadata": {},
     "output_type": "execute_result"
    },
    {
     "data": {
      "image/png": "[encoded data removed]",
      "text/plain": [
       "<Figure size 864x432 with 1 Axes>"
      ]
     },
     "metadata": {
      "needs_background": "light"
     },
     "output_type": "display_data"
    }
   ],
   "source": [
    "# Create a plot.\n",
    "fig, ax = plt.subplots(figsize=(12,6))\n",
    "\n",
    "# Plot x vs y.\n",
    "ax.plot(x, y, 'k.')\n",
    "\n",
    "# Plot x vs parameters on x.\n",
    "ax.plot(x, params[0] * x + params[1], 'b-')"
   ]
  },
  {
   "cell_type": "markdown",
   "id": "94db44fb",
   "metadata": {},
   "source": [
    "and again totally different sort of curve. "
   ]
  },
  {
   "cell_type": "markdown",
   "id": "8f92cad6",
   "metadata": {},
   "source": [
    "<br>\n",
    "\n",
    "Now lets change the parameter. \n",
    "\n",
    "<br>"
   ]
  },
  {
   "cell_type": "code",
   "execution_count": 14,
   "id": "676f51ad",
   "metadata": {},
   "outputs": [
    {
     "data": {
      "text/plain": [
       "array([  404.99944639, -4071.44393107, 11220.5892649 , -4708.86456044])"
      ]
     },
     "execution_count": 14,
     "metadata": {},
     "output_type": "execute_result"
    }
   ],
   "source": [
    "# Use x and y to try to find the original parameters.\n",
    "params = np.polyfit(x, y, 3)\n",
    "params"
   ]
  },
  {
   "cell_type": "code",
   "execution_count": 15,
   "id": "00375b17",
   "metadata": {},
   "outputs": [
    {
     "data": {
      "text/plain": [
       "[<matplotlib.lines.Line2D at 0x2776cbec9d0>]"
      ]
     },
     "execution_count": 15,
     "metadata": {},
     "output_type": "execute_result"
    },
    {
     "data": {
      "image/png": "[encoded data removed]",
      "text/plain": [
       "<Figure size 864x432 with 1 Axes>"
      ]
     },
     "metadata": {
      "needs_background": "light"
     },
     "output_type": "display_data"
    }
   ],
   "source": [
    "# Create a plot.\n",
    "fig, ax = plt.subplots(figsize=(12,6))\n",
    "\n",
    "# Plot x vs y.\n",
    "ax.plot(x, y, 'k.')\n",
    "\n",
    "# Plot x vs parameters on x.\n",
    "ax.plot(x, params[0] * x + params[1], 'b-')"
   ]
  },
  {
   "cell_type": "markdown",
   "id": "87c5507b",
   "metadata": {},
   "source": [
    "<hr style=\"border-top: 1px solid #001a79;\" />\n",
    "<br>\n",
    "<h3 style=\"color: #001a79;\">Exercise 3.2</h3>\n",
    "<hr style=\"border-top: 1px solid #001a79;\" />\n",
    "\n",
    "__Task:__\n",
    "<br>"
   ]
  },
  {
   "cell_type": "code",
   "execution_count": null,
   "id": "dbea6de6",
   "metadata": {},
   "outputs": [],
   "source": []
  },
  {
   "cell_type": "code",
   "execution_count": null,
   "id": "3d935857",
   "metadata": {},
   "outputs": [],
   "source": []
  },
  {
   "cell_type": "code",
   "execution_count": null,
   "id": "a9eb7599",
   "metadata": {},
   "outputs": [],
   "source": []
  },
  {
   "cell_type": "code",
   "execution_count": null,
   "id": "ebe3a74d",
   "metadata": {},
   "outputs": [],
   "source": []
  },
  {
   "cell_type": "code",
   "execution_count": null,
   "id": "3d3bd916",
   "metadata": {},
   "outputs": [],
   "source": []
  },
  {
   "cell_type": "code",
   "execution_count": null,
   "id": "777d5264",
   "metadata": {},
   "outputs": [],
   "source": []
  },
  {
   "cell_type": "code",
   "execution_count": null,
   "id": "3c44622f",
   "metadata": {},
   "outputs": [],
   "source": []
  },
  {
   "cell_type": "markdown",
   "id": "319ebc78",
   "metadata": {},
   "source": [
    "<hr style=\"border-top: 1px solid #001a79;\" />\n",
    "\n",
    "<h3 style=\"color: #001a79;\">End</h3>"
   ]
  }
 ],
 "metadata": {
  "kernelspec": {
   "display_name": "Python 3 (ipykernel)",
   "language": "python",
   "name": "python3"
  },
  "language_info": {
   "codemirror_mode": {
    "name": "ipython",
    "version": 3
   },
   "file_extension": ".py",
   "mimetype": "text/x-python",
   "name": "python",
   "nbconvert_exporter": "python",
   "pygments_lexer": "ipython3",
   "version": "3.9.12"
  }
 },
 "nbformat": 4,
 "nbformat_minor": 5
}
