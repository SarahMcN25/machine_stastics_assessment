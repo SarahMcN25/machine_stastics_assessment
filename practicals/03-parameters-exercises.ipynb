{
 "cells": [
  {
   "cell_type": "markdown",
   "id": "070769d9",
   "metadata": {},
   "source": [
    "<h1 style=\"color: #001a79;\">Weekly Exercises</h1>\n",
    "\n",
    "<hr style=\"border-top: 1px solid #001a79;\" />"
   ]
  },
  {
   "cell_type": "markdown",
   "id": "918780c8",
   "metadata": {},
   "source": [
    "<h3 style=\"color: #001a79;\">Exercise 3.1</h3>\n",
    "\n",
    "<hr style=\"border-top: 1px solid #001a79;\" />\n",
    "\n",
    "__Task:__\n",
    "<br>\n",
    "\n",
    "Use numpy's polyfit to fit polynomials to the following two data sets.\n",
    "\n",
    "Data Set 1:\n",
    "```python\n",
    "x = [0.0, 1.0, 2.0, 3.0, 4.0, 5.0, 6.0, 7.0, 8.0, 9.0, 10.0, 11.0, 12.0, 13.0, 14.0, 15.0]\n",
    "y = [1.3, 1.2, 9.4, 27.3, 63.1, 126.5, 217.3, 341.5, 512.8, 729.3, 1001.8, 1332.7, 1728.9, 2198.8, 2743.7, 3376.7]\n",
    "```\n",
    "\n",
    "Data Set 2:\n",
    "```python\n",
    "x = [0.0, 1.0, 2.0, 3.0, 4.0, 5.0, 6.0, 7.0, 8.0, 9.0, 10.0, 11.0, 12.0]\n",
    "y = [5.7, 16.6, 58.0, 278.9, 1069.3, 3181.4, 7844.3, 16883.9, 32854.9, 59144.2, 100106.7, 161166.3, 248958.6]\n",
    "```"
   ]
  },
  {
   "cell_type": "markdown",
   "id": "4916bda2",
   "metadata": {},
   "source": [
    "Official documentation: https://numpy.org/doc/stable/reference/generated/numpy.polyfit.html"
   ]
  },
  {
   "cell_type": "markdown",
   "id": "d245fcd5",
   "metadata": {},
   "source": [
    "The following code was adapted from: https://github.com/ianmcloughlin/2223-S1-machine-learn-stats/blob/main/notebooks/03-parameters.ipynb"
   ]
  },
  {
   "cell_type": "code",
   "execution_count": 1,
   "id": "3cedc790",
   "metadata": {},
   "outputs": [],
   "source": [
    "# For numerical arrrays.\n",
    "import numpy as np\n",
    "\n",
    "# For data visualization. \n",
    "import matplotlib.pyplot as plt"
   ]
  },
  {
   "cell_type": "markdown",
   "id": "1a7c6c8e",
   "metadata": {},
   "source": [
    "** explaination needed here for polyfit. \n",
    "also maybe source a dumbed down version of what the function is etc... "
   ]
  },
  {
   "cell_type": "markdown",
   "id": "21fb386f",
   "metadata": {},
   "source": [
    "## Data set #1"
   ]
  },
  {
   "cell_type": "code",
   "execution_count": 2,
   "id": "1c362ebe",
   "metadata": {},
   "outputs": [],
   "source": [
    "# DATA SET #1\n",
    "x = np.array([0.0, 1.0, 2.0, 3.0, 4.0, 5.0, 6.0, 7.0, 8.0, 9.0, 10.0, 11.0, 12.0, 13.0, 14.0, 15.0])\n",
    "y = np.array([1.3, 1.2, 9.4, 27.3, 63.1, 126.5, 217.3, 341.5, 512.8, 729.3, 1001.8, 1332.7, 1728.9, 2198.8, 2743.7, 3376.7])"
   ]
  },
  {
   "cell_type": "code",
   "execution_count": 3,
   "id": "1ed01515",
   "metadata": {},
   "outputs": [
    {
     "data": {
      "text/plain": [
       "array([ 206.84161765, -650.54338235])"
      ]
     },
     "execution_count": 3,
     "metadata": {},
     "output_type": "execute_result"
    }
   ],
   "source": [
    "# Use x and y to try to find the original parameters.\n",
    "params = np.polyfit(x, y, 1)\n",
    "params"
   ]
  },
  {
   "cell_type": "code",
   "execution_count": 4,
   "id": "9efa0e09",
   "metadata": {},
   "outputs": [
    {
     "data": {
      "text/plain": [
       "[<matplotlib.lines.Line2D at 0x1e217bdddf0>]"
      ]
     },
     "execution_count": 4,
     "metadata": {},
     "output_type": "execute_result"
    },
    {
     "data": {
      "image/png": "[encoded data removed]",
      "text/plain": [
       "<Figure size 864x432 with 1 Axes>"
      ]
     },
     "metadata": {
      "needs_background": "light"
     },
     "output_type": "display_data"
    }
   ],
   "source": [
    "# Create a plot.\n",
    "fig, ax = plt.subplots(figsize=(12,6))\n",
    "\n",
    "# Plot x vs y.\n",
    "ax.plot(x, y, 'k.')\n",
    "\n",
    "# Plot x vs parameters on x.\n",
    "ax.plot(x, params[0] * x + params[1], 'b-')"
   ]
  },
  {
   "cell_type": "markdown",
   "id": "c6593454",
   "metadata": {},
   "source": [
    "Slight curve but close to noise. "
   ]
  },
  {
   "cell_type": "markdown",
   "id": "2a1a32e5",
   "metadata": {},
   "source": [
    "<br>\n",
    "\n",
    "Now lets change the parameter. \n",
    "\n",
    "<br>"
   ]
  },
  {
   "cell_type": "code",
   "execution_count": 5,
   "id": "b7439aa9",
   "metadata": {},
   "outputs": [
    {
     "data": {
      "text/plain": [
       "array([ 0.99699366,  0.07781416, -0.50388419,  1.22298762])"
      ]
     },
     "execution_count": 5,
     "metadata": {},
     "output_type": "execute_result"
    }
   ],
   "source": [
    "# Use x and y to try to find the original parameters.\n",
    "params = np.polyfit(x, y, 3)\n",
    "params"
   ]
  },
  {
   "cell_type": "code",
   "execution_count": 6,
   "id": "8c639317",
   "metadata": {},
   "outputs": [
    {
     "data": {
      "text/plain": [
       "[<matplotlib.lines.Line2D at 0x1e217c6e430>]"
      ]
     },
     "execution_count": 6,
     "metadata": {},
     "output_type": "execute_result"
    },
    {
     "data": {
      "image/png": "[encoded data removed]",
      "text/plain": [
       "<Figure size 864x432 with 1 Axes>"
      ]
     },
     "metadata": {
      "needs_background": "light"
     },
     "output_type": "display_data"
    }
   ],
   "source": [
    "# Create a plot.\n",
    "fig, ax = plt.subplots(figsize=(12,6))\n",
    "\n",
    "# Plot x vs y.\n",
    "ax.plot(x, y, 'k.')\n",
    "\n",
    "# Plot x vs parameters on x.\n",
    "ax.plot(x, params[0] * x + params[1], 'b-')"
   ]
  },
  {
   "cell_type": "markdown",
   "id": "b2751fb3",
   "metadata": {},
   "source": [
    "change in parameter throws the whole thing off. "
   ]
  },
  {
   "cell_type": "markdown",
   "id": "ac112c07",
   "metadata": {},
   "source": [
    "<br>\n",
    "\n",
    "<hr style=\"border-top: 1px solid #001a79;\" />\n",
    "\n",
    "<br>"
   ]
  },
  {
   "cell_type": "markdown",
   "id": "ec27bbd7",
   "metadata": {},
   "source": [
    "## Data set #2"
   ]
  },
  {
   "cell_type": "code",
   "execution_count": 7,
   "id": "12e2ac29",
   "metadata": {},
   "outputs": [],
   "source": [
    "# DATA SET #2\n",
    "x = np.array([0.0, 1.0, 2.0, 3.0, 4.0, 5.0, 6.0, 7.0, 8.0, 9.0, 10.0, 11.0, 12.0])\n",
    "y = np.array([5.7, 16.6, 58.0, 278.9, 1069.3, 3181.4, 7844.3, 16883.9, 32854.9, 59144.2, 100106.7, 161166.3, 248958.6])"
   ]
  },
  {
   "cell_type": "code",
   "execution_count": 8,
   "id": "f67f1e1a",
   "metadata": {},
   "outputs": [
    {
     "data": {
      "text/plain": [
       "array([ 16228.18846154, -48786.91538462])"
      ]
     },
     "execution_count": 8,
     "metadata": {},
     "output_type": "execute_result"
    }
   ],
   "source": [
    "# Use x and y to try to find the original parameters.\n",
    "params = np.polyfit(x, y, 1)\n",
    "params"
   ]
  },
  {
   "cell_type": "code",
   "execution_count": 9,
   "id": "4f855336",
   "metadata": {},
   "outputs": [
    {
     "data": {
      "text/plain": [
       "[<matplotlib.lines.Line2D at 0x1e217cdebb0>]"
      ]
     },
     "execution_count": 9,
     "metadata": {},
     "output_type": "execute_result"
    },
    {
     "data": {
      "image/png": "[encoded data removed]",
      "text/plain": [
       "<Figure size 864x432 with 1 Axes>"
      ]
     },
     "metadata": {
      "needs_background": "light"
     },
     "output_type": "display_data"
    }
   ],
   "source": [
    "# Create a plot.\n",
    "fig, ax = plt.subplots(figsize=(12,6))\n",
    "\n",
    "# Plot x vs y.\n",
    "ax.plot(x, y, 'k.')\n",
    "\n",
    "# Plot x vs parameters on x.\n",
    "ax.plot(x, params[0] * x + params[1], 'b-')"
   ]
  },
  {
   "cell_type": "markdown",
   "id": "9ed50cc6",
   "metadata": {},
   "source": [
    "Again slight curve but not a hundred miles from noise. "
   ]
  },
  {
   "cell_type": "markdown",
   "id": "9eba9f3c",
   "metadata": {},
   "source": [
    "<br>\n",
    "\n",
    "Now lets change the parameter. \n",
    "\n",
    "<br>"
   ]
  },
  {
   "cell_type": "code",
   "execution_count": 10,
   "id": "a6fe571a",
   "metadata": {},
   "outputs": [
    {
     "data": {
      "text/plain": [
       "array([  404.99944639, -4071.44393107, 11220.5892649 , -4708.86456044])"
      ]
     },
     "execution_count": 10,
     "metadata": {},
     "output_type": "execute_result"
    }
   ],
   "source": [
    "# Use x and y to try to find the original parameters.\n",
    "params = np.polyfit(x, y, 3)\n",
    "params"
   ]
  },
  {
   "cell_type": "code",
   "execution_count": 11,
   "id": "49f3f4c9",
   "metadata": {},
   "outputs": [
    {
     "data": {
      "text/plain": [
       "[<matplotlib.lines.Line2D at 0x1e217d4a970>]"
      ]
     },
     "execution_count": 11,
     "metadata": {},
     "output_type": "execute_result"
    },
    {
     "data": {
      "image/png": "[encoded data removed]",
      "text/plain": [
       "<Figure size 864x432 with 1 Axes>"
      ]
     },
     "metadata": {
      "needs_background": "light"
     },
     "output_type": "display_data"
    }
   ],
   "source": [
    "# Create a plot.\n",
    "fig, ax = plt.subplots(figsize=(12,6))\n",
    "\n",
    "# Plot x vs y.\n",
    "ax.plot(x, y, 'k.')\n",
    "\n",
    "# Plot x vs parameters on x.\n",
    "ax.plot(x, params[0] * x + params[1], 'b-')"
   ]
  },
  {
   "cell_type": "markdown",
   "id": "94db44fb",
   "metadata": {},
   "source": [
    "and again totally different sort of curve. "
   ]
  },
  {
   "cell_type": "code",
   "execution_count": null,
   "id": "43faff1f",
   "metadata": {},
   "outputs": [],
   "source": []
  },
  {
   "cell_type": "code",
   "execution_count": null,
   "id": "676f51ad",
   "metadata": {},
   "outputs": [],
   "source": []
  },
  {
   "cell_type": "markdown",
   "id": "87c5507b",
   "metadata": {},
   "source": [
    "<hr style=\"border-top: 1px solid #001a79;\" />\n",
    "<br>\n",
    "<h3 style=\"color: #001a79;\">Exercise 3.2</h3>\n",
    "<hr style=\"border-top: 1px solid #001a79;\" />\n",
    "\n",
    "__Task:__\n",
    "<br>"
   ]
  },
  {
   "cell_type": "code",
   "execution_count": null,
   "id": "dbea6de6",
   "metadata": {},
   "outputs": [],
   "source": []
  },
  {
   "cell_type": "code",
   "execution_count": null,
   "id": "3d935857",
   "metadata": {},
   "outputs": [],
   "source": []
  },
  {
   "cell_type": "code",
   "execution_count": null,
   "id": "a9eb7599",
   "metadata": {},
   "outputs": [],
   "source": []
  },
  {
   "cell_type": "code",
   "execution_count": null,
   "id": "ebe3a74d",
   "metadata": {},
   "outputs": [],
   "source": []
  },
  {
   "cell_type": "code",
   "execution_count": null,
   "id": "3d3bd916",
   "metadata": {},
   "outputs": [],
   "source": []
  },
  {
   "cell_type": "code",
   "execution_count": null,
   "id": "777d5264",
   "metadata": {},
   "outputs": [],
   "source": []
  },
  {
   "cell_type": "code",
   "execution_count": null,
   "id": "3c44622f",
   "metadata": {},
   "outputs": [],
   "source": []
  },
  {
   "cell_type": "markdown",
   "id": "319ebc78",
   "metadata": {},
   "source": [
    "<hr style=\"border-top: 1px solid #001a79;\" />\n",
    "\n",
    "<h3 style=\"color: #001a79;\">End</h3>"
   ]
  }
 ],
 "metadata": {
  "kernelspec": {
   "display_name": "Python 3 (ipykernel)",
   "language": "python",
   "name": "python3"
  },
  "language_info": {
   "codemirror_mode": {
    "name": "ipython",
    "version": 3
   },
   "file_extension": ".py",
   "mimetype": "text/x-python",
   "name": "python",
   "nbconvert_exporter": "python",
   "pygments_lexer": "ipython3",
   "version": "3.9.12"
  }
 },
 "nbformat": 4,
 "nbformat_minor": 5
}
